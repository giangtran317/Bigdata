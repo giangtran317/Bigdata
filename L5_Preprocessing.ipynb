{
 "cells": [
  {
   "cell_type": "code",
   "execution_count": 2,
   "id": "db7dab8c-6534-4222-9bcb-4a6113066b0e",
   "metadata": {},
   "outputs": [],
   "source": [
    "import findspark\n",
    "findspark.init()\n",
    "\n",
    "from pyspark import SparkContext\n",
    "from pyspark.conf import SparkConf\n",
    "from pyspark.sql import SparkSession\n",
    "\n",
    "import warnings\n",
    "warnings.filterwarnings('ignore')\n",
    "\n",
    "from pyspark.sql.functions import *"
   ]
  },
  {
   "cell_type": "code",
   "execution_count": 3,
   "id": "75775fbd-56e6-4cf6-9f23-3c7a3f5836c9",
   "metadata": {},
   "outputs": [
    {
     "name": "stderr",
     "output_type": "stream",
     "text": [
      "23/05/16 13:04:50 WARN Utils: Your hostname, Mums-MacBook.local resolves to a loopback address: 127.0.0.1; using 10.40.58.22 instead (on interface en0)\n",
      "23/05/16 13:04:50 WARN Utils: Set SPARK_LOCAL_IP if you need to bind to another address\n",
      "Setting default log level to \"WARN\".\n",
      "To adjust logging level use sc.setLogLevel(newLevel). For SparkR, use setLogLevel(newLevel).\n",
      "23/05/16 13:04:51 WARN NativeCodeLoader: Unable to load native-hadoop library for your platform... using builtin-java classes where applicable\n"
     ]
    }
   ],
   "source": [
    "sc = SparkContext()"
   ]
  },
  {
   "cell_type": "code",
   "execution_count": 4,
   "id": "daf54a17-898a-435b-bc82-4d75d466396f",
   "metadata": {},
   "outputs": [],
   "source": [
    "spark = SparkSession(sc)"
   ]
  },
  {
   "cell_type": "markdown",
   "id": "623c0ed9-1e0e-49c8-b269-ecfd79e0eade",
   "metadata": {
    "tags": []
   },
   "source": [
    "## I. DATA CLEANING"
   ]
  },
  {
   "cell_type": "code",
   "execution_count": 5,
   "id": "835ae604-654c-4d38-8064-ebe4cd2a66dc",
   "metadata": {},
   "outputs": [],
   "source": [
    "df = spark.read.csv('/Users/tranhuonggiang/Documents/BI_DA/KHTN/KHTN_BigData in ML/b5/2017_StPaul_MN_Real_Estate.csv', inferSchema = True, header = True)"
   ]
  },
  {
   "cell_type": "code",
   "execution_count": 6,
   "id": "e4d6f182-e6b8-4b81-8482-1deb6c914abb",
   "metadata": {},
   "outputs": [
    {
     "name": "stderr",
     "output_type": "stream",
     "text": [
      "23/05/14 13:38:02 WARN package: Truncated the string representation of a plan since it was too large. This behavior can be adjusted by setting 'spark.sql.debug.maxToStringFields'.\n"
     ]
    },
    {
     "data": {
      "text/plain": [
       "(5000, 74)"
      ]
     },
     "execution_count": 6,
     "metadata": {},
     "output_type": "execute_result"
    }
   ],
   "source": [
    "df.toPandas().shape"
   ]
  },
  {
   "cell_type": "code",
   "execution_count": 7,
   "id": "0b1a67e5-48a8-4d6a-ac26-f0a2181f2ad5",
   "metadata": {},
   "outputs": [
    {
     "data": {
      "text/plain": [
       "Index(['No', 'MLSID', 'StreetNumberNumeric', 'streetaddress', 'STREETNAME',\n",
       "       'PostalCode', 'StateOrProvince', 'City', 'SalesClosePrice', 'LISTDATE',\n",
       "       'LISTPRICE', 'LISTTYPE', 'OriginalListPrice', 'PricePerTSFT',\n",
       "       'FOUNDATIONSIZE', 'FENCE', 'MapLetter', 'LotSizeDimensions',\n",
       "       'SchoolDistrictNumber', 'DAYSONMARKET', 'offmarketdate', 'Fireplaces',\n",
       "       'RoomArea4', 'roomtype', 'ROOF', 'RoomFloor4', 'PotentialShortSale',\n",
       "       'PoolDescription', 'PDOM', 'GarageDescription', 'SQFTABOVEGROUND',\n",
       "       'Taxes', 'RoomFloor1', 'RoomArea1', 'TAXWITHASSESSMENTS', 'TAXYEAR',\n",
       "       'LivingArea', 'UNITNUMBER', 'YEARBUILT', 'ZONING', 'STYLE', 'ACRES',\n",
       "       'CoolingDescription', 'APPLIANCES', 'backonmarketdate',\n",
       "       'ROOMFAMILYCHAR', 'RoomArea3', 'EXTERIOR', 'RoomFloor3', 'RoomFloor2',\n",
       "       'RoomArea2', 'DiningRoomDescription', 'BASEMENT', 'BathsFull',\n",
       "       'BathsHalf', 'BATHQUARTER', 'BATHSTHREEQUARTER', 'Class', 'BATHSTOTAL',\n",
       "       'BATHDESC', 'RoomArea5', 'RoomFloor5', 'RoomArea6', 'RoomFloor6',\n",
       "       'RoomArea7', 'RoomFloor7', 'RoomArea8', 'RoomFloor8', 'Bedrooms',\n",
       "       'SQFTBELOWGROUND', 'AssumableMortgage', 'AssociationFee',\n",
       "       'ASSESSMENTPENDING', 'AssessedValuation'],\n",
       "      dtype='object')"
      ]
     },
     "execution_count": 7,
     "metadata": {},
     "output_type": "execute_result"
    }
   ],
   "source": [
    "df.toPandas().columns"
   ]
  },
  {
   "cell_type": "code",
   "execution_count": 8,
   "id": "f73daeba-bcdf-4b01-b7fe-fa93c278d365",
   "metadata": {},
   "outputs": [],
   "source": [
    "df_sub = df.select('StreetNumberNumeric','Fireplaces','LotSizeDimensions','LISTTYPE','ACRES','AssumableMortgage',\n",
    "                   'SalesClosePrice','LISTPRICE','DAYSONMARKET','YEARBUILT')"
   ]
  },
  {
   "cell_type": "code",
   "execution_count": 9,
   "id": "fa64fced-9160-4080-b090-408c4598caea",
   "metadata": {},
   "outputs": [
    {
     "data": {
      "text/html": [
       "<div>\n",
       "<style scoped>\n",
       "    .dataframe tbody tr th:only-of-type {\n",
       "        vertical-align: middle;\n",
       "    }\n",
       "\n",
       "    .dataframe tbody tr th {\n",
       "        vertical-align: top;\n",
       "    }\n",
       "\n",
       "    .dataframe thead th {\n",
       "        text-align: right;\n",
       "    }\n",
       "</style>\n",
       "<table border=\"1\" class=\"dataframe\">\n",
       "  <thead>\n",
       "    <tr style=\"text-align: right;\">\n",
       "      <th></th>\n",
       "      <th>StreetNumberNumeric</th>\n",
       "      <th>Fireplaces</th>\n",
       "      <th>LotSizeDimensions</th>\n",
       "      <th>LISTTYPE</th>\n",
       "      <th>ACRES</th>\n",
       "      <th>AssumableMortgage</th>\n",
       "      <th>SalesClosePrice</th>\n",
       "      <th>LISTPRICE</th>\n",
       "      <th>DAYSONMARKET</th>\n",
       "      <th>YEARBUILT</th>\n",
       "    </tr>\n",
       "  </thead>\n",
       "  <tbody>\n",
       "    <tr>\n",
       "      <th>0</th>\n",
       "      <td>11511</td>\n",
       "      <td>0</td>\n",
       "      <td>279X200</td>\n",
       "      <td>Exclusive Right</td>\n",
       "      <td>1.28</td>\n",
       "      <td>None</td>\n",
       "      <td>143000</td>\n",
       "      <td>139900</td>\n",
       "      <td>10</td>\n",
       "      <td>1950</td>\n",
       "    </tr>\n",
       "    <tr>\n",
       "      <th>1</th>\n",
       "      <td>11200</td>\n",
       "      <td>0</td>\n",
       "      <td>100x140</td>\n",
       "      <td>Exclusive Right</td>\n",
       "      <td>0.32</td>\n",
       "      <td>None</td>\n",
       "      <td>190000</td>\n",
       "      <td>210000</td>\n",
       "      <td>4</td>\n",
       "      <td>1971</td>\n",
       "    </tr>\n",
       "  </tbody>\n",
       "</table>\n",
       "</div>"
      ],
      "text/plain": [
       "   StreetNumberNumeric  Fireplaces LotSizeDimensions         LISTTYPE  ACRES  \\\n",
       "0                11511           0           279X200  Exclusive Right   1.28   \n",
       "1                11200           0           100x140  Exclusive Right   0.32   \n",
       "\n",
       "  AssumableMortgage  SalesClosePrice  LISTPRICE  DAYSONMARKET  YEARBUILT  \n",
       "0              None           143000     139900            10       1950  \n",
       "1              None           190000     210000             4       1971  "
      ]
     },
     "execution_count": 9,
     "metadata": {},
     "output_type": "execute_result"
    }
   ],
   "source": [
    "df_sub.toPandas().head(2)"
   ]
  },
  {
   "cell_type": "markdown",
   "id": "ea4f4d44-4367-453d-9608-6b2eb34faa6a",
   "metadata": {},
   "source": [
    "Xoá các thuộc tính không liên quan"
   ]
  },
  {
   "cell_type": "code",
   "execution_count": 10,
   "id": "0732e400-d737-4ab5-bf55-74339a1c6ffe",
   "metadata": {},
   "outputs": [
    {
     "data": {
      "text/html": [
       "<div>\n",
       "<style scoped>\n",
       "    .dataframe tbody tr th:only-of-type {\n",
       "        vertical-align: middle;\n",
       "    }\n",
       "\n",
       "    .dataframe tbody tr th {\n",
       "        vertical-align: top;\n",
       "    }\n",
       "\n",
       "    .dataframe thead th {\n",
       "        text-align: right;\n",
       "    }\n",
       "</style>\n",
       "<table border=\"1\" class=\"dataframe\">\n",
       "  <thead>\n",
       "    <tr style=\"text-align: right;\">\n",
       "      <th></th>\n",
       "      <th>Fireplaces</th>\n",
       "      <th>LISTTYPE</th>\n",
       "      <th>ACRES</th>\n",
       "      <th>AssumableMortgage</th>\n",
       "      <th>SalesClosePrice</th>\n",
       "      <th>LISTPRICE</th>\n",
       "      <th>DAYSONMARKET</th>\n",
       "      <th>YEARBUILT</th>\n",
       "    </tr>\n",
       "  </thead>\n",
       "  <tbody>\n",
       "    <tr>\n",
       "      <th>0</th>\n",
       "      <td>0</td>\n",
       "      <td>Exclusive Right</td>\n",
       "      <td>1.28</td>\n",
       "      <td>None</td>\n",
       "      <td>143000</td>\n",
       "      <td>139900</td>\n",
       "      <td>10</td>\n",
       "      <td>1950</td>\n",
       "    </tr>\n",
       "    <tr>\n",
       "      <th>1</th>\n",
       "      <td>0</td>\n",
       "      <td>Exclusive Right</td>\n",
       "      <td>0.32</td>\n",
       "      <td>None</td>\n",
       "      <td>190000</td>\n",
       "      <td>210000</td>\n",
       "      <td>4</td>\n",
       "      <td>1971</td>\n",
       "    </tr>\n",
       "  </tbody>\n",
       "</table>\n",
       "</div>"
      ],
      "text/plain": [
       "   Fireplaces         LISTTYPE  ACRES AssumableMortgage  SalesClosePrice  \\\n",
       "0           0  Exclusive Right   1.28              None           143000   \n",
       "1           0  Exclusive Right   0.32              None           190000   \n",
       "\n",
       "   LISTPRICE  DAYSONMARKET  YEARBUILT  \n",
       "0     139900            10       1950  \n",
       "1     210000             4       1971  "
      ]
     },
     "execution_count": 10,
     "metadata": {},
     "output_type": "execute_result"
    }
   ],
   "source": [
    "df_sub = df_sub.drop(*['StreetNumberNumeric','LotSizeDimensions'])\n",
    "df_sub.toPandas().head(2)"
   ]
  },
  {
   "cell_type": "markdown",
   "id": "ecc758d2-8815-46b3-8f18-1a559d8f9221",
   "metadata": {},
   "source": [
    "Lọc dữ liệu"
   ]
  },
  {
   "cell_type": "code",
   "execution_count": 11,
   "id": "3e8d72c8-625a-4791-8fce-546d230f57ef",
   "metadata": {},
   "outputs": [
    {
     "name": "stdout",
     "output_type": "stream",
     "text": [
      "+-------------------+\n",
      "|  AssumableMortgage|\n",
      "+-------------------+\n",
      "|  Yes w/ Qualifying|\n",
      "| Information Coming|\n",
      "|               null|\n",
      "|Yes w/No Qualifying|\n",
      "|      Not Assumable|\n",
      "+-------------------+\n",
      "\n"
     ]
    }
   ],
   "source": [
    "df_sub.select('AssumableMortgage').distinct().show()"
   ]
  },
  {
   "cell_type": "code",
   "execution_count": 12,
   "id": "21363447-ed82-4c9c-bf7c-7144dbbea4c0",
   "metadata": {},
   "outputs": [
    {
     "data": {
      "text/plain": [
       "4976"
      ]
     },
     "execution_count": 12,
     "metadata": {},
     "output_type": "execute_result"
    }
   ],
   "source": [
    "yes_values = ['Yes w/ Qualifying','Yes w/No Qualifying']\n",
    "\n",
    "#filter yes but keep null value\n",
    "text_filter = ~df_sub['AssumableMortgage'].isin(yes_values) | df_sub['AssumableMortgage'].isNull()\n",
    "df_sub = df_sub.where(text_filter)\n",
    "\n",
    "df_sub.count()"
   ]
  },
  {
   "cell_type": "markdown",
   "id": "0dbcd927-16fe-45b5-ad88-087509b2f07f",
   "metadata": {},
   "source": [
    "Xoá outliers theo phân phối chuẩn"
   ]
  },
  {
   "cell_type": "code",
   "execution_count": 13,
   "id": "9e316b7f-90e4-4fe8-a08a-c63eb7a50587",
   "metadata": {},
   "outputs": [],
   "source": [
    "df_sub = df_sub.withColumn('log_SalesClosePrice', log(col('SalesClosePrice')))"
   ]
  },
  {
   "cell_type": "code",
   "execution_count": 14,
   "id": "086b4249-b008-469b-ba5d-edcabf2a1722",
   "metadata": {},
   "outputs": [],
   "source": [
    "#cal values used for outlier filtering \n",
    "mean_val = df_sub.agg({'log_SalesClosePrice':'mean'}).collect()[0][0]\n",
    "stddev_val = df_sub.agg({'log_SalesClosePrice':'stddev'}).collect()[0][0]\n",
    "\n",
    "#create lower and upper bounds \n",
    "low_bound = mean_val - (3*stddev_val) \n",
    "up_bound = mean_val + (3*stddev_val) \n",
    "\n",
    "#filter data betwen upper & lower bound \n",
    "df_sub = df_sub.where((df_sub['log_SalesClosePrice'] < up_bound) & (df_sub['log_SalesClosePrice'] > low_bound))"
   ]
  },
  {
   "cell_type": "code",
   "execution_count": 15,
   "id": "e3849ed0-11cd-4c1e-b64b-20667f48e1ff",
   "metadata": {},
   "outputs": [
    {
     "data": {
      "text/plain": [
       "4946"
      ]
     },
     "execution_count": 15,
     "metadata": {},
     "output_type": "execute_result"
    }
   ],
   "source": [
    "df_sub.count()"
   ]
  },
  {
   "cell_type": "markdown",
   "id": "116a8bda-3241-4786-a125-9a761612f995",
   "metadata": {},
   "source": [
    "xoá dữ liệu null & nan"
   ]
  },
  {
   "cell_type": "code",
   "execution_count": 16,
   "id": "0ea28032-570c-4f8d-877d-68c130c3ef0a",
   "metadata": {},
   "outputs": [
    {
     "data": {
      "text/plain": [
       "4946"
      ]
     },
     "execution_count": 16,
     "metadata": {},
     "output_type": "execute_result"
    }
   ],
   "source": [
    "#drop records if both ListPrice and SalesClosePrice are NULL \n",
    "df_sub = df_sub.dropna(how='all', subset = ['ListPrice','SalesClosePrice'])\n",
    "df_sub.count()"
   ]
  },
  {
   "cell_type": "code",
   "execution_count": 17,
   "id": "b95915b9-17b7-4c69-b8ba-2eeae16acd87",
   "metadata": {},
   "outputs": [
    {
     "data": {
      "text/plain": [
       "4946"
      ]
     },
     "execution_count": 17,
     "metadata": {},
     "output_type": "execute_result"
    }
   ],
   "source": [
    "#drop records where at least two columns have NULL values\n",
    "df_sub = df_sub.dropna(thresh = 2)\n",
    "df_sub.count()"
   ]
  },
  {
   "cell_type": "markdown",
   "id": "ac689f5b-e1dc-4a99-82fc-8ec5a6f6ecd8",
   "metadata": {},
   "source": [
    "Xoá dữ liệu trùng lắp"
   ]
  },
  {
   "cell_type": "code",
   "execution_count": 18,
   "id": "8359a917-d03b-4bd9-953c-f90b0fe57c6d",
   "metadata": {},
   "outputs": [
    {
     "data": {
      "text/plain": [
       "4945"
      ]
     },
     "execution_count": 18,
     "metadata": {},
     "output_type": "execute_result"
    }
   ],
   "source": [
    "df_sub = df_sub.drop_duplicates()\n",
    "df_sub.count()\n",
    "# có trùng 1 row"
   ]
  },
  {
   "cell_type": "markdown",
   "id": "5585a359-447e-4527-ae0e-e92d5520040d",
   "metadata": {},
   "source": [
    "Scale dữ liệu:\n",
    "1. Minmax scaling: khi data không có pp chuẩn \n",
    "2. Standard scaling: khi data có pp chuẩn"
   ]
  },
  {
   "cell_type": "code",
   "execution_count": 19,
   "id": "9be2ead1-f74d-4722-93ca-2a36c38a1f85",
   "metadata": {},
   "outputs": [
    {
     "name": "stdout",
     "output_type": "stream",
     "text": [
      "+-------------------+\n",
      "|       scaled_price|\n",
      "+-------------------+\n",
      "| 0.7718277066356228|\n",
      "|0.15832363213038417|\n",
      "|0.21071012805587894|\n",
      "| 0.1210710128055879|\n",
      "|0.21769499417927823|\n",
      "+-------------------+\n",
      "only showing top 5 rows\n",
      "\n"
     ]
    }
   ],
   "source": [
    "#define min max value \n",
    "max_price = df_sub.agg({'SalesClosePrice':'max'}).collect()[0][0]\n",
    "min_price = df_sub.agg({'SalesClosePrice':'min'}).collect()[0][0]\n",
    "\n",
    "#create column based on the scaled data \n",
    "df_sub = df_sub.withColumn('scaled_price', \n",
    "                           (df_sub['SalesClosePrice'] - min_price)/(max_price - min_price))\n",
    "\n",
    "df_sub.select('scaled_price').show(5)"
   ]
  },
  {
   "cell_type": "code",
   "execution_count": 20,
   "id": "d424dd3f-7f32-4793-af67-34b7008c2db7",
   "metadata": {},
   "outputs": [
    {
     "name": "stdout",
     "output_type": "stream",
     "text": [
      "+-------------------+\n",
      "|       scaled_price|\n",
      "+-------------------+\n",
      "| 0.7718277066356228|\n",
      "|0.15832363213038417|\n",
      "|0.21071012805587894|\n",
      "| 0.1210710128055879|\n",
      "|0.21769499417927823|\n",
      "+-------------------+\n",
      "only showing top 5 rows\n",
      "\n"
     ]
    }
   ],
   "source": [
    "#cal values used for outlier filtering \n",
    "mean_days = df_sub.agg({'DAYSONMARKET':'mean'}).collect()[0][0]\n",
    "stddev_days = df_sub.agg({'DAYSONMARKET':'stddev'}).collect()[0][0]\n",
    "\n",
    "#create column based on the scaled data\n",
    "df_sub = df_sub.withColumn('standardscaled_days', \n",
    "                           (df_sub['DAYSONMARKET'] - mean_days)/stddev_days)\n",
    "df_sub.select('scaled_price').show(5)"
   ]
  },
  {
   "cell_type": "markdown",
   "id": "aff039ab-65e5-47f4-998a-ea658f4f1f2b",
   "metadata": {},
   "source": [
    "**Fill null value**\n",
    "1. Drop column: nếu data thiếu nhiều hoặc thiếu 1 cách ngẫu nhiên \n",
    "2. Rule Based: giá trị điền dựa trên business logic\n",
    "3. Statistics Based: gía trị điền có thể là mean, median...\n",
    "4. Model Based: gía trị điền là giá trị dự đoán từ model "
   ]
  },
  {
   "cell_type": "markdown",
   "id": "108e00df-e5f5-4825-a7ff-69c70ec0be56",
   "metadata": {},
   "source": [
    "## II. DATA FEATURING"
   ]
  },
  {
   "cell_type": "markdown",
   "id": "394a505b-6ce2-43c8-8cfb-52a3ff40a685",
   "metadata": {},
   "source": [
    "Đã xem rồi, chuyển qua làm bài tập luôn cũng được"
   ]
  },
  {
   "cell_type": "markdown",
   "id": "e289540b-41ec-45bc-9fa4-8f7bfa8959ad",
   "metadata": {},
   "source": [
    "## III. EXERCISES"
   ]
  },
  {
   "cell_type": "markdown",
   "id": "904b1cfc-d344-4296-83f6-ec8318d09607",
   "metadata": {},
   "source": [
    "#### Exercise 1"
   ]
  },
  {
   "cell_type": "markdown",
   "id": "40c18940-2bb9-4276-861e-30e3c95741ac",
   "metadata": {},
   "source": [
    "1. Đọc dữ liệu => df"
   ]
  },
  {
   "cell_type": "code",
   "execution_count": 22,
   "id": "3f17c857-99c0-48ea-bb50-b0dcf2f5dc5c",
   "metadata": {},
   "outputs": [],
   "source": [
    "df = spark.read.csv(('/Users/tranhuonggiang/Documents/BI_DA/KHTN/KHTN_BigData in ML/b5/voters_data/DallasCouncilVoters.csv'), inferSchema = True, header = True)"
   ]
  },
  {
   "cell_type": "markdown",
   "id": "251a4dfa-f3fb-4247-aefd-3082a7022f8b",
   "metadata": {},
   "source": [
    "2. Cho biết dữ liệu có bao nhiêu dòng, in scheme. Hiển thị 5 dòng dữ liệu đầu tiên."
   ]
  },
  {
   "cell_type": "code",
   "execution_count": 23,
   "id": "7c9d8d51-3ec4-4b5b-8c05-dcd598f4e5cb",
   "metadata": {},
   "outputs": [
    {
     "data": {
      "text/plain": [
       "44625"
      ]
     },
     "execution_count": 23,
     "metadata": {},
     "output_type": "execute_result"
    }
   ],
   "source": [
    "df.count()"
   ]
  },
  {
   "cell_type": "code",
   "execution_count": 24,
   "id": "892f0672-4851-445c-8d4c-c31610c9f06d",
   "metadata": {},
   "outputs": [
    {
     "name": "stdout",
     "output_type": "stream",
     "text": [
      "root\n",
      " |-- DATE: string (nullable = true)\n",
      " |-- TITLE: string (nullable = true)\n",
      " |-- VOTER_NAME: string (nullable = true)\n",
      "\n"
     ]
    }
   ],
   "source": [
    "df.printSchema()"
   ]
  },
  {
   "cell_type": "code",
   "execution_count": 25,
   "id": "4fab0439-2bfd-47ee-94dc-7bc683386c3a",
   "metadata": {},
   "outputs": [
    {
     "name": "stdout",
     "output_type": "stream",
     "text": [
      "+----------+-------------+-------------------+\n",
      "|      DATE|        TITLE|         VOTER_NAME|\n",
      "+----------+-------------+-------------------+\n",
      "|02/08/2017|Councilmember|  Jennifer S. Gates|\n",
      "|02/08/2017|Councilmember| Philip T. Kingston|\n",
      "|02/08/2017|        Mayor|Michael S. Rawlings|\n",
      "|02/08/2017|Councilmember|       Adam Medrano|\n",
      "|02/08/2017|Councilmember|       Casey Thomas|\n",
      "+----------+-------------+-------------------+\n",
      "only showing top 5 rows\n",
      "\n"
     ]
    }
   ],
   "source": [
    "df.show(5)"
   ]
  },
  {
   "cell_type": "markdown",
   "id": "7c5ebad8-f0d9-49ab-94be-e584da57c814",
   "metadata": {},
   "source": [
    "3. Kiểm tra dữ liệu NaN, null. Nếu dòng nào 'VOTER_NAME' có dữ liệu null thì xóa hết các dòng đó."
   ]
  },
  {
   "cell_type": "code",
   "execution_count": 26,
   "id": "767641e4-24ff-4233-a829-3985f5906b97",
   "metadata": {},
   "outputs": [],
   "source": [
    "from pyspark.sql.functions import col, udf\n",
    "from pyspark.sql.functions import isnan, when, count, col"
   ]
  },
  {
   "cell_type": "code",
   "execution_count": 32,
   "id": "5bce0ffc-e6f7-4b07-9c4e-2d6f60bf0db1",
   "metadata": {},
   "outputs": [
    {
     "data": {
      "text/html": [
       "<div>\n",
       "<style scoped>\n",
       "    .dataframe tbody tr th:only-of-type {\n",
       "        vertical-align: middle;\n",
       "    }\n",
       "\n",
       "    .dataframe tbody tr th {\n",
       "        vertical-align: top;\n",
       "    }\n",
       "\n",
       "    .dataframe thead th {\n",
       "        text-align: right;\n",
       "    }\n",
       "</style>\n",
       "<table border=\"1\" class=\"dataframe\">\n",
       "  <thead>\n",
       "    <tr style=\"text-align: right;\">\n",
       "      <th></th>\n",
       "      <th>0</th>\n",
       "    </tr>\n",
       "  </thead>\n",
       "  <tbody>\n",
       "    <tr>\n",
       "      <th>DATE</th>\n",
       "      <td>0</td>\n",
       "    </tr>\n",
       "    <tr>\n",
       "      <th>TITLE</th>\n",
       "      <td>0</td>\n",
       "    </tr>\n",
       "    <tr>\n",
       "      <th>VOTER_NAME</th>\n",
       "      <td>0</td>\n",
       "    </tr>\n",
       "  </tbody>\n",
       "</table>\n",
       "</div>"
      ],
      "text/plain": [
       "            0\n",
       "DATE        0\n",
       "TITLE       0\n",
       "VOTER_NAME  0"
      ]
     },
     "execution_count": 32,
     "metadata": {},
     "output_type": "execute_result"
    }
   ],
   "source": [
    "#Kiểm tra dữ liệu NaN => KHONG CO\n",
    "df.select([count(when(isnan(c), c)).alias(c) for c in df.columns]).toPandas().T"
   ]
  },
  {
   "cell_type": "code",
   "execution_count": 34,
   "id": "9ec0541f-009b-40d7-adcd-873e80255b6d",
   "metadata": {},
   "outputs": [
    {
     "data": {
      "text/html": [
       "<div>\n",
       "<style scoped>\n",
       "    .dataframe tbody tr th:only-of-type {\n",
       "        vertical-align: middle;\n",
       "    }\n",
       "\n",
       "    .dataframe tbody tr th {\n",
       "        vertical-align: top;\n",
       "    }\n",
       "\n",
       "    .dataframe thead th {\n",
       "        text-align: right;\n",
       "    }\n",
       "</style>\n",
       "<table border=\"1\" class=\"dataframe\">\n",
       "  <thead>\n",
       "    <tr style=\"text-align: right;\">\n",
       "      <th></th>\n",
       "      <th>0</th>\n",
       "    </tr>\n",
       "  </thead>\n",
       "  <tbody>\n",
       "    <tr>\n",
       "      <th>DATE</th>\n",
       "      <td>0</td>\n",
       "    </tr>\n",
       "    <tr>\n",
       "      <th>TITLE</th>\n",
       "      <td>195</td>\n",
       "    </tr>\n",
       "    <tr>\n",
       "      <th>VOTER_NAME</th>\n",
       "      <td>503</td>\n",
       "    </tr>\n",
       "  </tbody>\n",
       "</table>\n",
       "</div>"
      ],
      "text/plain": [
       "              0\n",
       "DATE          0\n",
       "TITLE       195\n",
       "VOTER_NAME  503"
      ]
     },
     "execution_count": 34,
     "metadata": {},
     "output_type": "execute_result"
    }
   ],
   "source": [
    "#Kiểm tra dữ liệu NULL \n",
    "df.select([count(when(isnull(c), c)).alias(c) for c in df.columns]).toPandas().T"
   ]
  },
  {
   "cell_type": "code",
   "execution_count": 35,
   "id": "94414e0d-6880-4870-a20a-2982481dc2eb",
   "metadata": {},
   "outputs": [],
   "source": [
    "#del null value in voter_name \n",
    "df = df.dropna(subset = 'VOTER_NAME')"
   ]
  },
  {
   "cell_type": "code",
   "execution_count": 36,
   "id": "fa9b89b6-6e88-4acb-a49b-c94ade6f848e",
   "metadata": {},
   "outputs": [
    {
     "data": {
      "text/plain": [
       "44122"
      ]
     },
     "execution_count": 36,
     "metadata": {},
     "output_type": "execute_result"
    }
   ],
   "source": [
    "df.count()"
   ]
  },
  {
   "cell_type": "markdown",
   "id": "cb04f4f6-445b-4b88-9f6f-b1fe562272f9",
   "metadata": {},
   "source": [
    "4. Kiểm tra dữ liệu trùng. Xóa dữ liệu trùng."
   ]
  },
  {
   "cell_type": "code",
   "execution_count": 37,
   "id": "6002203a-5438-4e0a-98c9-0e8438f87d3f",
   "metadata": {},
   "outputs": [],
   "source": [
    "num_rows = df.count()\n",
    "num_dist_rows = df.distinct().count()\n",
    "dup_rows = num_rows - num_dist_rows"
   ]
  },
  {
   "cell_type": "code",
   "execution_count": 38,
   "id": "f1905945-69cf-4e76-a832-575ab23451b7",
   "metadata": {},
   "outputs": [
    {
     "data": {
      "text/plain": [
       "44122"
      ]
     },
     "metadata": {},
     "output_type": "display_data"
    },
    {
     "data": {
      "text/plain": [
       "1273"
      ]
     },
     "metadata": {},
     "output_type": "display_data"
    },
    {
     "data": {
      "text/plain": [
       "42849"
      ]
     },
     "metadata": {},
     "output_type": "display_data"
    }
   ],
   "source": [
    "display(num_rows, num_dist_rows, dup_rows)"
   ]
  },
  {
   "cell_type": "code",
   "execution_count": 39,
   "id": "0fae779f-d5c4-4c81-a2a5-80c674f31865",
   "metadata": {},
   "outputs": [],
   "source": [
    "df = df.drop_duplicates()"
   ]
  },
  {
   "cell_type": "code",
   "execution_count": 40,
   "id": "c20fec0e-4050-4b96-b6d4-5560bc4d3ec3",
   "metadata": {},
   "outputs": [
    {
     "data": {
      "text/plain": [
       "1273"
      ]
     },
     "execution_count": 40,
     "metadata": {},
     "output_type": "execute_result"
    }
   ],
   "source": [
    "df.count()"
   ]
  },
  {
   "cell_type": "markdown",
   "id": "9373c390-d0a9-4bb7-8a51-4bda5ad10bd9",
   "metadata": {},
   "source": [
    "5. Tìm các VOTER_NAME duy nhất và hiển thị 10 thông tin đầu tiên."
   ]
  },
  {
   "cell_type": "code",
   "execution_count": 43,
   "id": "11464add-c466-4034-9668-bfaba0e162f8",
   "metadata": {},
   "outputs": [
    {
     "name": "stdout",
     "output_type": "stream",
     "text": [
      "+--------------------+\n",
      "|          VOTER_NAME|\n",
      "+--------------------+\n",
      "|      Tennell Atkins|\n",
      "|  the  final   20...|\n",
      "|        Scott Griggs|\n",
      "|       Scott  Griggs|\n",
      "|       Sandy Greyson|\n",
      "| Michael S. Rawlings|\n",
      "| the final 2018 A...|\n",
      "|        Kevin Felder|\n",
      "|        Adam Medrano|\n",
      "|       Casey  Thomas|\n",
      "+--------------------+\n",
      "only showing top 10 rows\n",
      "\n"
     ]
    }
   ],
   "source": [
    "df.select(df['VOTER_NAME']).distinct().show(10)"
   ]
  },
  {
   "cell_type": "markdown",
   "id": "67b81966-5b5b-403e-a479-86287c992008",
   "metadata": {},
   "source": [
    "6. Lọc dữ liệu theo điều kiện 'VOTER_NAME' có chiều dài từ 1-20 ký tự."
   ]
  },
  {
   "cell_type": "code",
   "execution_count": 44,
   "id": "59fb3bf5-344c-4d05-80f4-a0fb3bf5e7ba",
   "metadata": {},
   "outputs": [],
   "source": [
    "from pyspark.sql.functions import *"
   ]
  },
  {
   "cell_type": "code",
   "execution_count": 49,
   "id": "be37b8be-569f-4059-9644-b26703de444d",
   "metadata": {},
   "outputs": [],
   "source": [
    "df = df.filter('length(VOTER_NAME) > 0 and length(VOTER_NAME) < 20')"
   ]
  },
  {
   "cell_type": "code",
   "execution_count": 50,
   "id": "2218ae10-af30-4e9c-94c6-9ed2ef5dea46",
   "metadata": {},
   "outputs": [
    {
     "name": "stdout",
     "output_type": "stream",
     "text": [
      "+----------+--------------------+---------------+\n",
      "|      DATE|               TITLE|     VOTER_NAME|\n",
      "+----------+--------------------+---------------+\n",
      "|04/11/2018|Deputy Mayor Pro Tem|   Adam Medrano|\n",
      "|02/14/2018|       Councilmember|Lee M. Kleinman|\n",
      "+----------+--------------------+---------------+\n",
      "only showing top 2 rows\n",
      "\n"
     ]
    }
   ],
   "source": [
    "df.show(2)"
   ]
  },
  {
   "cell_type": "markdown",
   "id": "ef5a82b1-0215-434a-ae0b-f450099b0dda",
   "metadata": {},
   "source": [
    "7. Loại bỏ các dữ liệu mà trong 'VOTER_NAME' có chứa dấu '_' (underscore)"
   ]
  },
  {
   "cell_type": "code",
   "execution_count": 51,
   "id": "886a76bc-abfe-4ea0-96b2-5a4e7fb07b03",
   "metadata": {},
   "outputs": [],
   "source": [
    "df = df.filter(~ col('VOTER_NAME').contains('_'))"
   ]
  },
  {
   "cell_type": "markdown",
   "id": "6e3b02e5-075c-4edb-8d38-73dca5274fc6",
   "metadata": {},
   "source": [
    "8. Tạo cột 'splits' chứa thông tin được cắt theo khoảng trắng từ 'VOTER_NAME'"
   ]
  },
  {
   "cell_type": "code",
   "execution_count": 52,
   "id": "5a642315-6278-42e4-be10-12cb8ca4e320",
   "metadata": {},
   "outputs": [
    {
     "name": "stdout",
     "output_type": "stream",
     "text": [
      "+----------+--------------------+------------+--------------+\n",
      "|      DATE|               TITLE|  VOTER_NAME|         split|\n",
      "+----------+--------------------+------------+--------------+\n",
      "|04/11/2018|Deputy Mayor Pro Tem|Adam Medrano|[Adam Medrano]|\n",
      "+----------+--------------------+------------+--------------+\n",
      "only showing top 1 row\n",
      "\n"
     ]
    }
   ],
   "source": [
    "df = df.withColumn('split', split(df.VOTER_NAME, '/s+')) \n",
    "df.show(1)"
   ]
  },
  {
   "cell_type": "markdown",
   "id": "42dbb590-1a07-4f01-8938-7f27c64e7305",
   "metadata": {},
   "source": [
    "9. Tạo cột 'first_name' lấy dữ liệu từ phần tử đầu tiên trong cột 'splits'"
   ]
  },
  {
   "cell_type": "code",
   "execution_count": 54,
   "id": "ced8b65c-bee1-490e-bd3f-47a538c21b40",
   "metadata": {},
   "outputs": [
    {
     "name": "stdout",
     "output_type": "stream",
     "text": [
      "+----------+--------------------+------------+--------------+------------+\n",
      "|      DATE|               TITLE|  VOTER_NAME|         split|  first_name|\n",
      "+----------+--------------------+------------+--------------+------------+\n",
      "|04/11/2018|Deputy Mayor Pro Tem|Adam Medrano|[Adam Medrano]|Adam Medrano|\n",
      "+----------+--------------------+------------+--------------+------------+\n",
      "only showing top 1 row\n",
      "\n"
     ]
    }
   ],
   "source": [
    "df = df.withColumn('first_name', df.split.getItem(0))\n",
    "df.show(1)"
   ]
  },
  {
   "cell_type": "markdown",
   "id": "571743fa-55e7-4113-9fba-f5240727ba8b",
   "metadata": {},
   "source": [
    "10. Tạo cột 'last_name' lấy dữ liệu từ phần tử cuối cùng trong cột 'splits'"
   ]
  },
  {
   "cell_type": "code",
   "execution_count": 59,
   "id": "b111b222-6650-4d7f-9e93-07b5da90d809",
   "metadata": {},
   "outputs": [
    {
     "name": "stdout",
     "output_type": "stream",
     "text": [
      "+----------+--------------------+------------+--------------+------------+------------+\n",
      "|      DATE|               TITLE|  VOTER_NAME|         split|  first_name|   last_name|\n",
      "+----------+--------------------+------------+--------------+------------+------------+\n",
      "|04/11/2018|Deputy Mayor Pro Tem|Adam Medrano|[Adam Medrano]|Adam Medrano|Adam Medrano|\n",
      "+----------+--------------------+------------+--------------+------------+------------+\n",
      "only showing top 1 row\n",
      "\n"
     ]
    }
   ],
   "source": [
    "df = df.withColumn('last_name', df.split.getItem(size('split') - 1))\n",
    "df.show(1)"
   ]
  },
  {
   "cell_type": "markdown",
   "id": "035e94e5-165c-4cb4-96aa-c0af8f9869f7",
   "metadata": {},
   "source": [
    "11. Tạo cột 'random_val' theo điều kiện: nếu cột 'TITLE' có nội dung là 'Councilmember' thì\n",
    "'random_val' sẽ có giá trị rand(), nếu có nội dung là 'Mayor' thì 'random_val' sẽ có giá trị là 2,\n",
    "ngược lại sẽ có giá trị là 0."
   ]
  },
  {
   "cell_type": "code",
   "execution_count": 60,
   "id": "65247c72-1c48-443e-8bda-96a7f060184c",
   "metadata": {},
   "outputs": [
    {
     "name": "stdout",
     "output_type": "stream",
     "text": [
      "+----------+--------------------+------------+--------------+------------+------------+----------+\n",
      "|      DATE|               TITLE|  VOTER_NAME|         split|  first_name|   last_name|random_val|\n",
      "+----------+--------------------+------------+--------------+------------+------------+----------+\n",
      "|04/11/2018|Deputy Mayor Pro Tem|Adam Medrano|[Adam Medrano]|Adam Medrano|Adam Medrano|      null|\n",
      "+----------+--------------------+------------+--------------+------------+------------+----------+\n",
      "only showing top 1 row\n",
      "\n"
     ]
    }
   ],
   "source": [
    "df = df.withColumn('random_val', when(df.TITLE == 'Councilmember', rand()))\n",
    "df.show(1)"
   ]
  },
  {
   "cell_type": "code",
   "execution_count": 62,
   "id": "ef9aef11-86a4-4ec6-8288-33ff84db143f",
   "metadata": {},
   "outputs": [
    {
     "name": "stdout",
     "output_type": "stream",
     "text": [
      "+----------+--------------------+------------+--------------+------------+------------+----------+\n",
      "|      DATE|               TITLE|  VOTER_NAME|         split|  first_name|   last_name|random_val|\n",
      "+----------+--------------------+------------+--------------+------------+------------+----------+\n",
      "|04/11/2018|Deputy Mayor Pro Tem|Adam Medrano|[Adam Medrano]|Adam Medrano|Adam Medrano|       0.0|\n",
      "+----------+--------------------+------------+--------------+------------+------------+----------+\n",
      "only showing top 1 row\n",
      "\n"
     ]
    }
   ],
   "source": [
    "df = df.withColumn('random_val',\n",
    " when(df.TITLE == 'Councilmember', rand())\n",
    " .when(df.TITLE == 'Mayor', 2)\n",
    " .otherwise(0))\n",
    "df.show(1)"
   ]
  },
  {
   "cell_type": "markdown",
   "id": "ee40d971-f5da-4ab6-a068-e56ac9624899",
   "metadata": {},
   "source": [
    "12. Lọc các dòng dữ liệu có 'random_val' = 0. Hiển thị."
   ]
  },
  {
   "cell_type": "code",
   "execution_count": 64,
   "id": "9e7a015f-7b29-48b3-b1b8-9bb401e81330",
   "metadata": {},
   "outputs": [
    {
     "name": "stdout",
     "output_type": "stream",
     "text": [
      "+----------+--------------------+------------+--------------+------------+------------+----------+\n",
      "|      DATE|               TITLE|  VOTER_NAME|         split|  first_name|   last_name|random_val|\n",
      "+----------+--------------------+------------+--------------+------------+------------+----------+\n",
      "|04/11/2018|Deputy Mayor Pro Tem|Adam Medrano|[Adam Medrano]|Adam Medrano|Adam Medrano|       0.0|\n",
      "+----------+--------------------+------------+--------------+------------+------------+----------+\n",
      "only showing top 1 row\n",
      "\n"
     ]
    }
   ],
   "source": [
    "df.filter(df.random_val == 0).show(1)"
   ]
  },
  {
   "cell_type": "markdown",
   "id": "d74e9bbf-0634-41a8-94f2-6830232b1276",
   "metadata": {},
   "source": [
    "13. Xây dựng function: getFirstAndMiddle(names) trả về kết quả gồm First và Middle (names).\n",
    "Khai báo function vừa viết dưới dạng udf đặt tên là udfFirstAndMiddle."
   ]
  },
  {
   "cell_type": "code",
   "execution_count": 65,
   "id": "4a04a8b7-dc09-4f86-8409-d4b176acda87",
   "metadata": {},
   "outputs": [],
   "source": [
    "from pyspark.sql.types import *"
   ]
  },
  {
   "cell_type": "code",
   "execution_count": 66,
   "id": "9a491e9c-3c5d-48c6-816f-59fedd5bbfd1",
   "metadata": {},
   "outputs": [],
   "source": [
    "def getFirstAndMiddle(names):\n",
    " # Return a space separated string of names\n",
    " return ' '.join(names[:-1])"
   ]
  },
  {
   "cell_type": "code",
   "execution_count": 67,
   "id": "e181a1fa-7bd6-44f5-a2c7-da58ea4210bd",
   "metadata": {},
   "outputs": [],
   "source": [
    "udfFirstAndMiddle = udf(getFirstAndMiddle, StringType())"
   ]
  },
  {
   "cell_type": "markdown",
   "id": "dadeddf0-8907-481e-ae3b-a04b8f364544",
   "metadata": {},
   "source": [
    "14. Tạo cột first_and_middle_name bằng cách gọi udf trên với tham số truyền vào là cột 'splits'. In\n",
    "kết quả."
   ]
  },
  {
   "cell_type": "code",
   "execution_count": 69,
   "id": "7561d8f3-de6a-4ad6-aacb-6cbfede83ffd",
   "metadata": {},
   "outputs": [],
   "source": [
    "df = df.withColumn('first_and_middle_name', udfFirstAndMiddle(df.split))"
   ]
  },
  {
   "cell_type": "markdown",
   "id": "9fe62781-01fd-420d-b76f-f961f36831cc",
   "metadata": {},
   "source": [
    "15. Xóa bỏ các cột 'first_name', 'splits'. In kết quả."
   ]
  },
  {
   "cell_type": "code",
   "execution_count": 70,
   "id": "e4dc9bee-1a64-4f2f-82aa-6a2dfb773bfa",
   "metadata": {},
   "outputs": [],
   "source": [
    "df = df.drop('first_name')\n",
    "df = df.drop('splits')"
   ]
  },
  {
   "cell_type": "code",
   "execution_count": 71,
   "id": "425aac79-7c75-4a97-bdc0-353f3040dc70",
   "metadata": {},
   "outputs": [
    {
     "name": "stdout",
     "output_type": "stream",
     "text": [
      "+----------+--------------------+---------------+-----------------+---------------+-------------------+---------------------+\n",
      "|      DATE|               TITLE|     VOTER_NAME|            split|      last_name|         random_val|first_and_middle_name|\n",
      "+----------+--------------------+---------------+-----------------+---------------+-------------------+---------------------+\n",
      "|04/11/2018|Deputy Mayor Pro Tem|   Adam Medrano|   [Adam Medrano]|   Adam Medrano|                0.0|                     |\n",
      "|02/14/2018|       Councilmember|Lee M. Kleinman|[Lee M. Kleinman]|Lee M. Kleinman|  0.368239777636053|                     |\n",
      "|04/25/2018|       Councilmember| Tennell Atkins| [Tennell Atkins]| Tennell Atkins|0.32299455596231186|                     |\n",
      "+----------+--------------------+---------------+-----------------+---------------+-------------------+---------------------+\n",
      "only showing top 3 rows\n",
      "\n"
     ]
    }
   ],
   "source": [
    "df.show(3)"
   ]
  },
  {
   "cell_type": "markdown",
   "id": "899e70d2-d87c-4a69-8575-32e96cab31e2",
   "metadata": {},
   "source": [
    "16. Thêm cột 'ROW_ID' bằng phương thức: monotonically_increasing_id() (trong\n",
    "pyspark.sql.functions)."
   ]
  },
  {
   "cell_type": "code",
   "execution_count": 72,
   "id": "532aa68c-6cf5-44be-ac6c-9bcc71b377b4",
   "metadata": {},
   "outputs": [],
   "source": [
    "df = df.withColumn('ROW_ID', monotonically_increasing_id())"
   ]
  },
  {
   "cell_type": "markdown",
   "id": "ec004610-ea8e-4d8e-a32c-ffb87bda07b1",
   "metadata": {},
   "source": [
    "17. Hiển thị 10 dòng đầu của dữ liệu với ROW_ID tăng dần."
   ]
  },
  {
   "cell_type": "code",
   "execution_count": 73,
   "id": "f3604bc8-94e9-477b-97f1-a67065b0708c",
   "metadata": {},
   "outputs": [
    {
     "name": "stdout",
     "output_type": "stream",
     "text": [
      "+----------+-------------+-------------------+--------------------+-------------------+------------------+---------------------+------+\n",
      "|      DATE|        TITLE|         VOTER_NAME|               split|          last_name|        random_val|first_and_middle_name|ROW_ID|\n",
      "+----------+-------------+-------------------+--------------------+-------------------+------------------+---------------------+------+\n",
      "|11/22/2016|Councilmember|       Mark Clayton|      [Mark Clayton]|       Mark Clayton|0.7285887795180894|                     |  1258|\n",
      "|05/17/2017|Councilmember|       Lee Kleinman|      [Lee Kleinman]|       Lee Kleinman|0.2247095866492842|                     |  1257|\n",
      "|03/22/2017|Councilmember| Rickey D. Callahan|[Rickey D. Callahan]| Rickey D. Callahan|0.0553367594734675|                     |  1256|\n",
      "|01/25/2017|Councilmember|      Sandy Greyson|     [Sandy Greyson]|      Sandy Greyson|0.9525553632611952|                     |  1255|\n",
      "|01/24/2018|Mayor Pro Tem|  Dwaine R. Caraway| [Dwaine R. Caraway]|  Dwaine R. Caraway|               0.0|                     |  1254|\n",
      "|12/13/2017|Councilmember|     Tennell Atkins|    [Tennell Atkins]|     Tennell Atkins|0.1210766954207515|                     |  1253|\n",
      "|12/13/2017|Councilmember|      Scott  Griggs|     [Scott  Griggs]|      Scott  Griggs|0.9612826897418951|                     |  1252|\n",
      "|11/06/2018|Councilmember|Philip T.  Kingston|[Philip T.  Kings...|Philip T.  Kingston|0.5166061384046013|                     |  1251|\n",
      "|08/08/2018|Councilmember|      Scott  Griggs|     [Scott  Griggs]|      Scott  Griggs|0.2951372778083219|                     |  1250|\n",
      "|06/19/2017|Councilmember| Jennifer S.  Gates|[Jennifer S.  Gates]| Jennifer S.  Gates|0.3068294606639116|                     |  1249|\n",
      "+----------+-------------+-------------------+--------------------+-------------------+------------------+---------------------+------+\n",
      "only showing top 10 rows\n",
      "\n"
     ]
    }
   ],
   "source": [
    "df.orderBy(df.ROW_ID.desc()).show(10)"
   ]
  },
  {
   "cell_type": "markdown",
   "id": "8d2e4fbd-d6ff-4c64-b2fd-c7b3f59ecedc",
   "metadata": {},
   "source": [
    "#### Exercise 2"
   ]
  },
  {
   "cell_type": "code",
   "execution_count": 5,
   "id": "09a3d80b-d104-42f9-bfb6-253e0989a358",
   "metadata": {},
   "outputs": [],
   "source": [
    "df = spark.read.csv(('/Users/tranhuonggiang/Documents/BI_DA/KHTN/KHTN_BigData in ML/b5/AA_data/AA_DFW_2017_Departures_Short.csv'), inferSchema = True, header = True)"
   ]
  },
  {
   "cell_type": "code",
   "execution_count": 6,
   "id": "b5f9ffe3-8160-4c32-864a-c1d00ccfdadd",
   "metadata": {},
   "outputs": [
    {
     "name": "stdout",
     "output_type": "stream",
     "text": [
      "+-----------------+-------------+-------------------+-----------------------------+\n",
      "|Date (MM/DD/YYYY)|Flight Number|Destination Airport|Actual elapsed time (Minutes)|\n",
      "+-----------------+-------------+-------------------+-----------------------------+\n",
      "|       01/01/2017|            5|                HNL|                          537|\n",
      "|       01/01/2017|            7|                OGG|                          498|\n",
      "|       01/01/2017|           37|                SFO|                          241|\n",
      "|       01/01/2017|           43|                DTW|                          134|\n",
      "|       01/01/2017|           51|                STL|                           88|\n",
      "+-----------------+-------------+-------------------+-----------------------------+\n",
      "only showing top 5 rows\n",
      "\n"
     ]
    }
   ],
   "source": [
    "df.show(5)"
   ]
  },
  {
   "cell_type": "markdown",
   "id": "81fcf80a-081b-467b-8a32-4c4e0a4d8a60",
   "metadata": {},
   "source": [
    "5. Trong df, thêm cột 'airport' lấy dữ liệu từ cột 'Destination Airport', định dạng chữ thường cho\n",
    "nội dung"
   ]
  },
  {
   "cell_type": "code",
   "execution_count": 7,
   "id": "5cb880c6-1caf-4cf5-815c-ebd80d8c6187",
   "metadata": {},
   "outputs": [],
   "source": [
    "from pyspark.sql.functions import *"
   ]
  },
  {
   "cell_type": "code",
   "execution_count": 9,
   "id": "ffaf8608-1803-415e-bbaa-0c77738eaed0",
   "metadata": {},
   "outputs": [],
   "source": [
    "df = df.withColumn('airport', lower(df['Destination Airport']))"
   ]
  },
  {
   "cell_type": "markdown",
   "id": "a186cd5a-a342-4564-8dc1-fabc13791ed9",
   "metadata": {},
   "source": [
    "6. Trong df, thêm cột 'date' lấy dữ liệu từ cột 'Date (MM/DD/YYYY)', sau đó xóa bỏ cột 'Date\n",
    "(MM/DD/YYYY)'"
   ]
  },
  {
   "cell_type": "code",
   "execution_count": 13,
   "id": "3578eeea-06e2-4c26-b8b7-048f0e1c818f",
   "metadata": {},
   "outputs": [],
   "source": [
    "df = df.withColumn('date', df['Date (MM/DD/YYYY)'])\n",
    "df = df.drop('Date (MM/DD/YYYY)')"
   ]
  },
  {
   "cell_type": "markdown",
   "id": "4ef1de69-6d64-4069-b838-2220f817054a",
   "metadata": {},
   "source": [
    "7. Trong df, đổi tên cột \"Flight Number\" thành \"flight_num\", cột \"Actual elapsed time (Minutes)\"\n",
    "thành \"actual_time\""
   ]
  },
  {
   "cell_type": "code",
   "execution_count": 11,
   "id": "0de24ecf-8d46-4029-9db8-9def4e7fbb9d",
   "metadata": {},
   "outputs": [],
   "source": [
    "df = df.withColumnRenamed(\"Flight Number\", \"flight_num\")\n",
    "df = df.withColumnRenamed(\"Actual elapsed time (Minutes)\", \"actual_time\")"
   ]
  },
  {
   "cell_type": "markdown",
   "id": "3842304e-814d-4eb5-91de-a2ba8ae400f5",
   "metadata": {},
   "source": [
    "8. Lưu df dưới dạng Parquet format với tên là \"AA_DFW_ALL.parquet\""
   ]
  },
  {
   "cell_type": "code",
   "execution_count": 14,
   "id": "6e7e9012-ab26-4698-8499-4c176dee8407",
   "metadata": {},
   "outputs": [
    {
     "name": "stdout",
     "output_type": "stream",
     "text": [
      "+----------+-------------------+-----------+-------+----------+\n",
      "|flight_num|Destination Airport|actual_time|airport|      date|\n",
      "+----------+-------------------+-----------+-------+----------+\n",
      "|         5|                HNL|        537|    hnl|01/01/2017|\n",
      "|         7|                OGG|        498|    ogg|01/01/2017|\n",
      "|        37|                SFO|        241|    sfo|01/01/2017|\n",
      "+----------+-------------------+-----------+-------+----------+\n",
      "only showing top 3 rows\n",
      "\n"
     ]
    }
   ],
   "source": [
    "df.show(3)"
   ]
  },
  {
   "cell_type": "code",
   "execution_count": 15,
   "id": "f17a2050-7faf-4dde-ba9c-08ce69dddc22",
   "metadata": {},
   "outputs": [
    {
     "name": "stderr",
     "output_type": "stream",
     "text": [
      "                                                                                \r"
     ]
    }
   ],
   "source": [
    "df.write.parquet('AA_DFW_ALL.parquet.1', mode='overwrite')"
   ]
  },
  {
   "cell_type": "markdown",
   "id": "80c55fe2-9a52-497f-ab22-65a4137fac4f",
   "metadata": {},
   "source": [
    "9. Đọc parquet \"AA_DFW_ALL.parquet\" => df_new"
   ]
  },
  {
   "cell_type": "code",
   "execution_count": 16,
   "id": "5d8b31fd-136b-4f32-a9e6-a42943b2adf9",
   "metadata": {},
   "outputs": [],
   "source": [
    "df_new = spark.read.parquet('AA_DFW_ALL.parquet.1')"
   ]
  },
  {
   "cell_type": "code",
   "execution_count": 17,
   "id": "31449c59-92af-4029-852c-94d84fe1e770",
   "metadata": {},
   "outputs": [
    {
     "name": "stdout",
     "output_type": "stream",
     "text": [
      "139358\n"
     ]
    }
   ],
   "source": [
    "print(df_new.count())"
   ]
  },
  {
   "cell_type": "code",
   "execution_count": 18,
   "id": "9d730360-66c5-4db8-a917-791e45142d57",
   "metadata": {},
   "outputs": [
    {
     "name": "stdout",
     "output_type": "stream",
     "text": [
      "+----------+-------------------+-----------+-------+----------+\n",
      "|flight_num|Destination Airport|actual_time|airport|      date|\n",
      "+----------+-------------------+-----------+-------+----------+\n",
      "|         5|                HNL|        537|    hnl|01/01/2017|\n",
      "|         7|                OGG|        498|    ogg|01/01/2017|\n",
      "+----------+-------------------+-----------+-------+----------+\n",
      "only showing top 2 rows\n",
      "\n"
     ]
    }
   ],
   "source": [
    "df_new.show(2)"
   ]
  },
  {
   "cell_type": "markdown",
   "id": "4e4bd497-847b-4461-a54f-20d341cc708f",
   "metadata": {},
   "source": [
    "10. Tạo một bảng tạm 'flights'. Cho biết trung bình của 'actual_time' trong 'flight'"
   ]
  },
  {
   "cell_type": "code",
   "execution_count": 19,
   "id": "3166889e-16bb-41b0-a23d-9abece8f080f",
   "metadata": {},
   "outputs": [],
   "source": [
    "df_new.createOrReplaceTempView('flights')"
   ]
  },
  {
   "cell_type": "code",
   "execution_count": 20,
   "id": "7dd44bbe-fbd1-4fb7-af81-ee3258173071",
   "metadata": {},
   "outputs": [
    {
     "name": "stdout",
     "output_type": "stream",
     "text": [
      "The average flight time is: 151\n"
     ]
    }
   ],
   "source": [
    "avg_duration = spark.sql('SELECT avg(actual_time) from flights').collect()[0]\n",
    "print('The average flight time is: %d' % avg_duration)"
   ]
  },
  {
   "cell_type": "markdown",
   "id": "93057e62-1349-49c7-9085-0d476b82d8ea",
   "metadata": {},
   "source": [
    "11. Caching các dòng dữ liệu duy nhất của df_new. Đếm số dòng. Cho biết thời gian thực hiện\n",
    "các công việc này."
   ]
  },
  {
   "cell_type": "code",
   "execution_count": 21,
   "id": "d415b910-846f-4914-a89d-c5d5bab8e4b7",
   "metadata": {},
   "outputs": [],
   "source": [
    "import time"
   ]
  },
  {
   "cell_type": "code",
   "execution_count": 22,
   "id": "f808e4fb-69a7-463e-9709-1970514f3fdb",
   "metadata": {},
   "outputs": [
    {
     "name": "stdout",
     "output_type": "stream",
     "text": [
      "Counting 139358 rows took 0.934001 seconds\n"
     ]
    }
   ],
   "source": [
    "start_time = time.time()\n",
    "# Add caching to the unique rows in df_new\n",
    "df_new = df_new.distinct().cache()\n",
    "# Count the unique rows in df_new, noting how long the operation takes\n",
    "print(\"Counting %d rows took %f seconds\" %\n",
    " (df_new.count(), time.time() - start_time))"
   ]
  },
  {
   "cell_type": "markdown",
   "id": "64ae5338-634f-4aea-ac88-535a7d2090ca",
   "metadata": {},
   "source": [
    "12. Đếm lại số dòng. Cho biết thời gian thực hiện các công việc này."
   ]
  },
  {
   "cell_type": "code",
   "execution_count": 23,
   "id": "2a9e4a26-cca5-4c52-a5c3-a8e1c8f68f3a",
   "metadata": {},
   "outputs": [
    {
     "name": "stdout",
     "output_type": "stream",
     "text": [
      "Counting 139358 rows again took 0.214738 seconds\n"
     ]
    }
   ],
   "source": [
    "# Count the rows again, noting the variance in time of a cached DataFrame\n",
    "start_time = time.time()\n",
    "print(\"Counting %d rows again took %f seconds\" %\n",
    " (df_new.count(), time.time() - start_time))"
   ]
  },
  {
   "cell_type": "markdown",
   "id": "ef150c50-812d-40a7-b8b1-e534688a4e11",
   "metadata": {},
   "source": [
    "13. Kiểm tra xem df_new có trong cache hay không? Nếu có thì bỏ df_new ra khỏi cache."
   ]
  },
  {
   "cell_type": "code",
   "execution_count": 24,
   "id": "ecaf5901-40d7-4169-84cd-6a2cc795262a",
   "metadata": {},
   "outputs": [
    {
     "name": "stdout",
     "output_type": "stream",
     "text": [
      "Is df_new cached?: True\n",
      "Removing df_new from cache\n",
      "Is df_new cached?: False\n"
     ]
    }
   ],
   "source": [
    "# Determine if df_new is in the cache\n",
    "print(\"Is df_new cached?: %s\" % df_new.is_cached)\n",
    "print(\"Removing df_new from cache\")\n",
    "# Remove df_new from the cache\n",
    "df_new.unpersist()\n",
    "# Check the cache status again\n",
    "print(\"Is df_new cached?: %s\" % df_new.is_cached)"
   ]
  }
 ],
 "metadata": {
  "kernelspec": {
   "display_name": "Python 3 (ipykernel)",
   "language": "python",
   "name": "python3"
  },
  "language_info": {
   "codemirror_mode": {
    "name": "ipython",
    "version": 3
   },
   "file_extension": ".py",
   "mimetype": "text/x-python",
   "name": "python",
   "nbconvert_exporter": "python",
   "pygments_lexer": "ipython3",
   "version": "3.9.16"
  }
 },
 "nbformat": 4,
 "nbformat_minor": 5
}
