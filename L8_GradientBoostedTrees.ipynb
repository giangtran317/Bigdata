{
 "cells": [
  {
   "cell_type": "code",
   "execution_count": 1,
   "id": "a5f6d9d3-0b2c-4b3a-b4ac-f07c9c5e8463",
   "metadata": {},
   "outputs": [],
   "source": [
    "import findspark\n",
    "findspark.init()\n",
    "\n",
    "from pyspark import SparkContext\n",
    "from pyspark.conf import SparkConf\n",
    "from pyspark.sql import SparkSession\n",
    "\n",
    "import warnings\n",
    "warnings.filterwarnings('ignore')\n",
    "\n",
    "from pyspark.sql.functions import *"
   ]
  },
  {
   "cell_type": "code",
   "execution_count": 2,
   "id": "a396b830-14da-4de1-8fb6-860c7fd8eeaa",
   "metadata": {},
   "outputs": [
    {
     "name": "stderr",
     "output_type": "stream",
     "text": [
      "Setting default log level to \"WARN\".\n",
      "To adjust logging level use sc.setLogLevel(newLevel). For SparkR, use setLogLevel(newLevel).\n",
      "23/05/28 16:06:16 WARN NativeCodeLoader: Unable to load native-hadoop library for your platform... using builtin-java classes where applicable\n",
      "23/05/28 16:06:16 WARN Utils: Service 'SparkUI' could not bind on port 4040. Attempting port 4041.\n",
      "23/05/28 16:06:16 WARN Utils: Service 'SparkUI' could not bind on port 4041. Attempting port 4042.\n",
      "23/05/28 16:06:16 WARN Utils: Service 'SparkUI' could not bind on port 4042. Attempting port 4043.\n"
     ]
    }
   ],
   "source": [
    "sc = SparkContext()"
   ]
  },
  {
   "cell_type": "code",
   "execution_count": 3,
   "id": "4b21e090-1e54-4f8a-9708-f3d4207ce604",
   "metadata": {},
   "outputs": [],
   "source": [
    "spark = SparkSession(sc)"
   ]
  },
  {
   "cell_type": "code",
   "execution_count": 4,
   "id": "d4399632-b6a2-44be-a32f-c9f8f3558df3",
   "metadata": {},
   "outputs": [],
   "source": [
    "data = spark.read.csv('/Users/tranhuonggiang/Documents/BI_DA/KHTN/KHTN_BigData in ML/b7/flights.csv', inferSchema = True, header = True)"
   ]
  },
  {
   "cell_type": "code",
   "execution_count": 5,
   "id": "35220f4c-97e3-4cea-aef4-50f6a2b369bf",
   "metadata": {},
   "outputs": [
    {
     "name": "stdout",
     "output_type": "stream",
     "text": [
      "+---+---+---+-------+------+---+----+------+--------+-----+\n",
      "|mon|dom|dow|carrier|flight|org|mile|depart|duration|delay|\n",
      "+---+---+---+-------+------+---+----+------+--------+-----+\n",
      "| 11| 20|  6|     US|    19|JFK|2153|  9.48|     351|   NA|\n",
      "|  0| 22|  2|     UA|  1107|ORD| 316| 16.33|      82|   30|\n",
      "|  2| 20|  4|     UA|   226|SFO| 337|  6.17|      82|   -8|\n",
      "+---+---+---+-------+------+---+----+------+--------+-----+\n",
      "only showing top 3 rows\n",
      "\n"
     ]
    }
   ],
   "source": [
    "data.show(3)"
   ]
  },
  {
   "cell_type": "markdown",
   "id": "287a8164-68d6-496a-a319-868ba4596a39",
   "metadata": {},
   "source": [
    "**Chuẩn hoá dữ liệu**"
   ]
  },
  {
   "cell_type": "code",
   "execution_count": 6,
   "id": "a5960ee5-682c-41fb-947a-850d8f1ee5db",
   "metadata": {},
   "outputs": [],
   "source": [
    "#import required function\n",
    "from pyspark.sql.functions import round"
   ]
  },
  {
   "cell_type": "code",
   "execution_count": 7,
   "id": "9fb5e039-a2b2-4deb-a814-e10ca145af9b",
   "metadata": {},
   "outputs": [],
   "source": [
    "#convert mile to km \n",
    "data = data.withColumn('km', round(data.mile*1.60934,0))"
   ]
  },
  {
   "cell_type": "code",
   "execution_count": 8,
   "id": "defe77a2-2766-4d84-9795-f8e6cf00db80",
   "metadata": {},
   "outputs": [],
   "source": [
    "#create label column with idicating whether flight delay(1) or not(0)\n",
    "data = data.withColumn('label', (data.delay >0).cast('integer'))"
   ]
  },
  {
   "cell_type": "code",
   "execution_count": 9,
   "id": "d7354f6e-756d-4f21-a9ec-279f6ca19b04",
   "metadata": {},
   "outputs": [
    {
     "name": "stdout",
     "output_type": "stream",
     "text": [
      "+---+---+---+-------+------+---+----+------+--------+-----+------+-----+\n",
      "|mon|dom|dow|carrier|flight|org|mile|depart|duration|delay|    km|label|\n",
      "+---+---+---+-------+------+---+----+------+--------+-----+------+-----+\n",
      "| 11| 20|  6|     US|    19|JFK|2153|  9.48|     351|   NA|3465.0| null|\n",
      "|  0| 22|  2|     UA|  1107|ORD| 316| 16.33|      82|   30| 509.0|    1|\n",
      "|  2| 20|  4|     UA|   226|SFO| 337|  6.17|      82|   -8| 542.0|    0|\n",
      "+---+---+---+-------+------+---+----+------+--------+-----+------+-----+\n",
      "only showing top 3 rows\n",
      "\n"
     ]
    }
   ],
   "source": [
    "data.show(3)"
   ]
  },
  {
   "cell_type": "code",
   "execution_count": 10,
   "id": "c65a990e-bc6c-40e0-8b9b-ef71546afc88",
   "metadata": {},
   "outputs": [],
   "source": [
    "from pyspark.ml.feature import StringIndexer, OneHotEncoder"
   ]
  },
  {
   "cell_type": "code",
   "execution_count": 11,
   "id": "e9ea170c-4e0d-4567-8f6e-b935a00ef87d",
   "metadata": {},
   "outputs": [],
   "source": [
    "#Create an indexer\n",
    "indexer = StringIndexer(inputCol='carrier', outputCol='carrier_idex')\n",
    "#Indexer identifiers categories in the data \n",
    "indexer_model = indexer.fit(data)\n",
    "#Indexer creates a new column with numeric index values\n",
    "data_indexed = indexer_model.transform(data)\n",
    "#Repeat the process for other categorical feature \n",
    "data_indexed = StringIndexer(inputCol='org',\n",
    "                             outputCol='org_idx').fit(data_indexed).transform(data_indexed)\n",
    "\n",
    "\n",
    "#Create an encoder \n",
    "encoder = OneHotEncoder(inputCol='carrier_idex',\n",
    "                        outputCol='carrier_vec',\n",
    "                        dropLast=True) #default \n",
    "encoder = encoder.fit(data_indexed)\n",
    "data_indexed = encoder.transform(data_indexed)\n",
    "data_indexed = OneHotEncoder(inputCol='org_idx',\n",
    "                             outputCol='org_vec',\n",
    "                             dropLast=True).fit(data_indexed).transform(data_indexed)"
   ]
  },
  {
   "cell_type": "code",
   "execution_count": 12,
   "id": "7c8e14b9-bb4c-42ed-8581-747a747a353b",
   "metadata": {},
   "outputs": [
    {
     "name": "stdout",
     "output_type": "stream",
     "text": [
      "+---+---+---+-------+------+---+----+------+--------+-----+------+-----+------------+-------+-------------+-------------+\n",
      "|mon|dom|dow|carrier|flight|org|mile|depart|duration|delay|    km|label|carrier_idex|org_idx|  carrier_vec|      org_vec|\n",
      "+---+---+---+-------+------+---+----+------+--------+-----+------+-----+------------+-------+-------------+-------------+\n",
      "| 11| 20|  6|     US|    19|JFK|2153|  9.48|     351|   NA|3465.0| null|         6.0|    2.0|(8,[6],[1.0])|(7,[2],[1.0])|\n",
      "|  0| 22|  2|     UA|  1107|ORD| 316| 16.33|      82|   30| 509.0|    1|         0.0|    0.0|(8,[0],[1.0])|(7,[0],[1.0])|\n",
      "|  2| 20|  4|     UA|   226|SFO| 337|  6.17|      82|   -8| 542.0|    0|         0.0|    1.0|(8,[0],[1.0])|(7,[1],[1.0])|\n",
      "+---+---+---+-------+------+---+----+------+--------+-----+------+-----+------------+-------+-------------+-------------+\n",
      "only showing top 3 rows\n",
      "\n"
     ]
    }
   ],
   "source": [
    "data_indexed.show(3)"
   ]
  },
  {
   "cell_type": "markdown",
   "id": "9a7ea210-0d24-4196-aa3a-eb78d1ebdca7",
   "metadata": {},
   "source": [
    "**Chuyển đổi dữ liệu thành vector**"
   ]
  },
  {
   "cell_type": "code",
   "execution_count": 13,
   "id": "0a794edc-e87a-4bd4-9fbe-0ac285ae1359",
   "metadata": {},
   "outputs": [],
   "source": [
    "from pyspark.ml.linalg import Vectors\n",
    "from pyspark.ml.feature import VectorAssembler"
   ]
  },
  {
   "cell_type": "code",
   "execution_count": 14,
   "id": "feba0a7e-154f-49bf-8fdc-f75dd06b5c0f",
   "metadata": {},
   "outputs": [
    {
     "data": {
      "text/plain": [
       "['mon',\n",
       " 'dom',\n",
       " 'dow',\n",
       " 'carrier',\n",
       " 'flight',\n",
       " 'org',\n",
       " 'mile',\n",
       " 'depart',\n",
       " 'duration',\n",
       " 'delay',\n",
       " 'km',\n",
       " 'label',\n",
       " 'carrier_idex',\n",
       " 'org_idx',\n",
       " 'carrier_vec',\n",
       " 'org_vec']"
      ]
     },
     "execution_count": 14,
     "metadata": {},
     "output_type": "execute_result"
    }
   ],
   "source": [
    "data_indexed.columns"
   ]
  },
  {
   "cell_type": "code",
   "execution_count": 15,
   "id": "84d5ffc9-9cd2-4838-9840-9b72d84b275e",
   "metadata": {},
   "outputs": [],
   "source": [
    "assembler = VectorAssembler (\n",
    "    inputCols = ['mon','dom','dow','carrier_vec','org_vec','km','depart','duration'],\n",
    "    outputCol = 'features')"
   ]
  },
  {
   "cell_type": "code",
   "execution_count": 16,
   "id": "fe4ba2d0-7a8e-4426-b289-4d5de9b538d5",
   "metadata": {},
   "outputs": [],
   "source": [
    "data_pre = assembler.transform(data_indexed)"
   ]
  },
  {
   "cell_type": "code",
   "execution_count": 17,
   "id": "7a3ab4c3-94cb-4921-b4aa-5d1944ab1a09",
   "metadata": {},
   "outputs": [
    {
     "name": "stdout",
     "output_type": "stream",
     "text": [
      "+---+---+---+-------+------+---+----+------+--------+-----+------+-----+------------+-------+-------------+-------------+--------------------+\n",
      "|mon|dom|dow|carrier|flight|org|mile|depart|duration|delay|    km|label|carrier_idex|org_idx|  carrier_vec|      org_vec|            features|\n",
      "+---+---+---+-------+------+---+----+------+--------+-----+------+-----+------------+-------+-------------+-------------+--------------------+\n",
      "| 11| 20|  6|     US|    19|JFK|2153|  9.48|     351|   NA|3465.0| null|         6.0|    2.0|(8,[6],[1.0])|(7,[2],[1.0])|(21,[0,1,2,9,13,1...|\n",
      "|  0| 22|  2|     UA|  1107|ORD| 316| 16.33|      82|   30| 509.0|    1|         0.0|    0.0|(8,[0],[1.0])|(7,[0],[1.0])|(21,[1,2,3,11,18,...|\n",
      "+---+---+---+-------+------+---+----+------+--------+-----+------+-----+------------+-------+-------------+-------------+--------------------+\n",
      "only showing top 2 rows\n",
      "\n"
     ]
    }
   ],
   "source": [
    "data_pre.show(2)"
   ]
  },
  {
   "cell_type": "code",
   "execution_count": 18,
   "id": "3f1a2f8a-1e43-4c26-95c2-08d521a6c9a0",
   "metadata": {},
   "outputs": [],
   "source": [
    "final_data = data_pre.select('features', 'label')"
   ]
  },
  {
   "cell_type": "code",
   "execution_count": 19,
   "id": "4cbc62df-5afa-45a9-8835-6c3caaf8e388",
   "metadata": {},
   "outputs": [
    {
     "data": {
      "text/plain": [
       "50000"
      ]
     },
     "execution_count": 19,
     "metadata": {},
     "output_type": "execute_result"
    }
   ],
   "source": [
    "final_data.count()"
   ]
  },
  {
   "cell_type": "code",
   "execution_count": 20,
   "id": "84ef37a9-eb41-4261-a77a-336fe836ac47",
   "metadata": {},
   "outputs": [
    {
     "data": {
      "text/plain": [
       "47022"
      ]
     },
     "execution_count": 20,
     "metadata": {},
     "output_type": "execute_result"
    }
   ],
   "source": [
    "final_data = final_data.na.drop()\n",
    "final_data.count()"
   ]
  },
  {
   "cell_type": "markdown",
   "id": "fd95fee1-b138-44d4-b7eb-649ca43a88c9",
   "metadata": {},
   "source": [
    "**Lọc dữ liệu có label null**"
   ]
  },
  {
   "cell_type": "code",
   "execution_count": 21,
   "id": "0e2a2fed-6825-4572-b08d-55a3c656feb6",
   "metadata": {},
   "outputs": [],
   "source": [
    "new_data = data_pre.select('features','label').filter(data_pre.label.isNull())"
   ]
  },
  {
   "cell_type": "code",
   "execution_count": 22,
   "id": "1224457c-5842-4bee-8971-da1df0d6a629",
   "metadata": {},
   "outputs": [
    {
     "name": "stdout",
     "output_type": "stream",
     "text": [
      "+--------------------------------------------------------------------+-----+\n",
      "|features                                                            |label|\n",
      "+--------------------------------------------------------------------+-----+\n",
      "|(21,[0,1,2,9,13,18,19,20],[11.0,20.0,6.0,1.0,1.0,3465.0,9.48,351.0])|null |\n",
      "|(21,[0,1,2,4,11,18,19,20],[4.0,2.0,5.0,1.0,1.0,415.0,8.92,65.0])    |null |\n",
      "|(21,[1,2,3,11,18,19,20],[8.0,2.0,1.0,1.0,538.0,11.08,85.0])         |null |\n",
      "+--------------------------------------------------------------------+-----+\n",
      "only showing top 3 rows\n",
      "\n"
     ]
    }
   ],
   "source": [
    "new_data.show(3,False)"
   ]
  },
  {
   "cell_type": "code",
   "execution_count": 23,
   "id": "3615e0a7-4e34-4cd9-b280-8235c808c418",
   "metadata": {},
   "outputs": [
    {
     "data": {
      "text/plain": [
       "2978"
      ]
     },
     "execution_count": 23,
     "metadata": {},
     "output_type": "execute_result"
    }
   ],
   "source": [
    "new_data.count()"
   ]
  },
  {
   "cell_type": "markdown",
   "id": "4639d455-80eb-4d03-b555-d0286862af63",
   "metadata": {},
   "source": [
    "**Xây dựng model**"
   ]
  },
  {
   "cell_type": "code",
   "execution_count": 24,
   "id": "1cf2045b-ea4d-4994-8486-99cfef7fce5c",
   "metadata": {},
   "outputs": [],
   "source": [
    "train_data, test_data = final_data.randomSplit([0.8,0.2])"
   ]
  },
  {
   "cell_type": "code",
   "execution_count": 25,
   "id": "9d148f50-4238-42d1-be68-6c201aac06db",
   "metadata": {},
   "outputs": [],
   "source": [
    "from pyspark.ml.classification import  GBTClassifier"
   ]
  },
  {
   "cell_type": "code",
   "execution_count": 26,
   "id": "f8265e73-5e80-42ff-8c13-9ff95dd82096",
   "metadata": {},
   "outputs": [],
   "source": [
    "#create a classifier model object\n",
    "gbt = GBTClassifier(featuresCol = 'features',\n",
    "                      labelCol = 'label',\n",
    "                      predictionCol = 'prediction')"
   ]
  },
  {
   "cell_type": "code",
   "execution_count": 27,
   "id": "8c893030-386a-41c3-9520-d8549fc4b016",
   "metadata": {},
   "outputs": [],
   "source": [
    "#fit model to data\n",
    "gpt_model = gbt.fit(train_data)"
   ]
  },
  {
   "cell_type": "code",
   "execution_count": 28,
   "id": "23f71810-edbf-4711-8a11-3cf682d7c92a",
   "metadata": {},
   "outputs": [
    {
     "name": "stdout",
     "output_type": "stream",
     "text": [
      "Number of trees:  20\n",
      "Relative importance of features:  (21,[0,1,2,3,4,5,6,7,8,9,10,11,12,13,14,15,16,17,18,19,20],[0.2183203312026856,0.1598002163434585,0.15668450490728394,0.0034402340625058286,0.017843039044266512,0.016421958640689488,0.004912015250655779,0.009659747442116489,0.009744692395054686,0.015839736932323264,0.007429634384642113,0.03432201354423174,0.034418840787433264,0.018564547243840858,0.025584305616522272,0.01072227864065958,0.01198647405065771,0.002400113292571108,0.06162538543044953,0.1357091264469043,0.04457080434104748])\n"
     ]
    }
   ],
   "source": [
    "#Find the number of trees and the relative importance of features\n",
    "print('Number of trees: ', gpt_model.getNumTrees)\n",
    "print('Relative importance of features: ', gpt_model.featureImportances)"
   ]
  },
  {
   "cell_type": "markdown",
   "id": "89399c8b-fe52-4280-a7a8-e5acb299a3fc",
   "metadata": {},
   "source": [
    "**Đánh giá kết quả**"
   ]
  },
  {
   "cell_type": "code",
   "execution_count": 29,
   "id": "9d551add-3b40-4fb7-a521-306a6f1cedc7",
   "metadata": {},
   "outputs": [],
   "source": [
    "#check test dataset\n",
    "gpt_test_model = gpt_model.transform(test_data)"
   ]
  },
  {
   "cell_type": "code",
   "execution_count": 30,
   "id": "858db984-345f-4136-b342-5f19aa63f205",
   "metadata": {},
   "outputs": [
    {
     "name": "stdout",
     "output_type": "stream",
     "text": [
      "+-----+----------+----------------------------------------+\n",
      "|label|prediction|probability                             |\n",
      "+-----+----------+----------------------------------------+\n",
      "|1    |1.0       |[0.09699336527190347,0.9030066347280965]|\n",
      "|1    |1.0       |[0.15914056374497942,0.8408594362550206]|\n",
      "|1    |1.0       |[0.15231615782700253,0.8476838421729975]|\n",
      "+-----+----------+----------------------------------------+\n",
      "only showing top 3 rows\n",
      "\n"
     ]
    },
    {
     "name": "stderr",
     "output_type": "stream",
     "text": [
      "23/05/28 16:09:48 WARN InstanceBuilder: Failed to load implementation from:dev.ludovic.netlib.blas.JNIBLAS\n",
      "23/05/28 16:09:48 WARN InstanceBuilder: Failed to load implementation from:dev.ludovic.netlib.blas.VectorBLAS\n"
     ]
    }
   ],
   "source": [
    "#inspect results\n",
    "gpt_test_model.select('label', 'prediction', 'probability').show(3,False)"
   ]
  },
  {
   "cell_type": "code",
   "execution_count": 31,
   "id": "04845ac9-2e12-4dec-8edf-29608a8d8913",
   "metadata": {},
   "outputs": [
    {
     "name": "stdout",
     "output_type": "stream",
     "text": [
      "+-----+----------+-----+\n",
      "|label|prediction|count|\n",
      "+-----+----------+-----+\n",
      "|    1|       0.0|  738|\n",
      "|    0|       0.0| 1147|\n",
      "|    1|       1.0| 5187|\n",
      "|    0|       1.0| 2318|\n",
      "+-----+----------+-----+\n",
      "\n"
     ]
    }
   ],
   "source": [
    "#create a confusion matrix \n",
    "gpt_test_model.groupBy('label', 'prediction').count().show()"
   ]
  },
  {
   "cell_type": "code",
   "execution_count": 32,
   "id": "753404c5-0256-4c54-a1f3-a2dd8168aa0c",
   "metadata": {},
   "outputs": [],
   "source": [
    "from pyspark.ml.evaluation import MulticlassClassificationEvaluator, BinaryClassificationEvaluator"
   ]
  },
  {
   "cell_type": "code",
   "execution_count": 33,
   "id": "e8932d92-6cb0-47f1-a9ba-75f2ec08a509",
   "metadata": {},
   "outputs": [
    {
     "data": {
      "text/plain": [
       "0.6745473908413205"
      ]
     },
     "execution_count": 33,
     "metadata": {},
     "output_type": "execute_result"
    }
   ],
   "source": [
    "#Find weighted precision\n",
    "multi_evaluator = MulticlassClassificationEvaluator()\n",
    "acc_ = multi_evaluator.evaluate(gpt_test_model, {multi_evaluator.metricName: \"accuracy\"})\n",
    "acc_"
   ]
  },
  {
   "cell_type": "code",
   "execution_count": 34,
   "id": "453af0f8-a6ec-44b5-94a4-6eec5cced4f4",
   "metadata": {},
   "outputs": [
    {
     "data": {
      "text/plain": [
       "0.7046681157567234"
      ]
     },
     "execution_count": 34,
     "metadata": {},
     "output_type": "execute_result"
    }
   ],
   "source": [
    "#Find AUC\n",
    "binary_evaluator = BinaryClassificationEvaluator()\n",
    "auc = binary_evaluator.evaluate(gpt_test_model, {binary_evaluator.metricName: \"areaUnderROC\"})\n",
    "auc"
   ]
  },
  {
   "cell_type": "markdown",
   "id": "0c159ebc-5f68-4b6c-a274-86e5df6f827d",
   "metadata": {},
   "source": [
    "> Model is not good, but the best in 3 Tree models"
   ]
  },
  {
   "cell_type": "markdown",
   "id": "84556ee9-00a8-4670-a95b-71656b1042a3",
   "metadata": {
    "tags": []
   },
   "source": [
    "**Lưu và load model**"
   ]
  },
  {
   "cell_type": "code",
   "execution_count": 35,
   "id": "6587e9ac-748d-43a3-b20a-3d96a36d458d",
   "metadata": {},
   "outputs": [
    {
     "name": "stderr",
     "output_type": "stream",
     "text": [
      "                                                                                \r"
     ]
    }
   ],
   "source": [
    "#save model\n",
    "gpt_model.save('gpt_model_Flights_50k_new')"
   ]
  },
  {
   "cell_type": "code",
   "execution_count": 36,
   "id": "756616f9-36f8-4e32-a123-e88b433372ba",
   "metadata": {},
   "outputs": [],
   "source": [
    "from pyspark.ml.classification import GBTClassificationModel\n",
    "#load model from \n",
    "gpt_model2 = GBTClassificationModel.load('gpt_model_Flights_50k_new')"
   ]
  },
  {
   "cell_type": "markdown",
   "id": "f6fcc8df-b959-49b7-801b-e6c26fa84217",
   "metadata": {},
   "source": [
    "**Dự đoán mới**"
   ]
  },
  {
   "cell_type": "code",
   "execution_count": 37,
   "id": "6ba47f0e-0917-45bc-957f-8953fb786fda",
   "metadata": {},
   "outputs": [],
   "source": [
    "#predict new values (asssuming select test_data null)\n",
    "unlabeled_data = new_data.select('features')"
   ]
  },
  {
   "cell_type": "code",
   "execution_count": 38,
   "id": "7288e3d4-a516-45e9-b55f-74cd229255ce",
   "metadata": {},
   "outputs": [
    {
     "name": "stdout",
     "output_type": "stream",
     "text": [
      "+--------------------------------------------------------------------+--------------------------------------------+----------------------------------------+----------+\n",
      "|features                                                            |rawPrediction                               |probability                             |prediction|\n",
      "+--------------------------------------------------------------------+--------------------------------------------+----------------------------------------+----------+\n",
      "|(21,[0,1,2,9,13,18,19,20],[11.0,20.0,6.0,1.0,1.0,3465.0,9.48,351.0])|[-0.24488620151218093,0.24488620151218093]  |[0.37994718515355796,0.620052814846442] |1.0       |\n",
      "|(21,[0,1,2,4,11,18,19,20],[4.0,2.0,5.0,1.0,1.0,415.0,8.92,65.0])    |[0.050274769712135785,-0.050274769712135785]|[0.5251162275598901,0.47488377244010993]|0.0       |\n",
      "|(21,[1,2,3,11,18,19,20],[8.0,2.0,1.0,1.0,538.0,11.08,85.0])         |[-0.41951020795530897,0.41951020795530897]  |[0.301741135829808,0.698258864170192]   |1.0       |\n",
      "|(21,[0,1,3,11,18,19,20],[5.0,8.0,1.0,1.0,378.0,14.48,79.0])         |[-0.6578636254620933,0.6578636254620933]    |[0.21153004593786343,0.7884699540621366]|1.0       |\n",
      "|(21,[0,1,2,9,14,18,19,20],[1.0,13.0,3.0,1.0,1.0,344.0,20.0,82.0])   |[-0.07202338046258235,0.07202338046258235]  |[0.46405044945717744,0.5359495505428226]|1.0       |\n",
      "+--------------------------------------------------------------------+--------------------------------------------+----------------------------------------+----------+\n",
      "only showing top 5 rows\n",
      "\n"
     ]
    }
   ],
   "source": [
    "predictions = gpt_model2.transform(unlabeled_data)\n",
    "predictions.show(5,False)"
   ]
  }
 ],
 "metadata": {
  "kernelspec": {
   "display_name": "Python 3 (ipykernel)",
   "language": "python",
   "name": "python3"
  },
  "language_info": {
   "codemirror_mode": {
    "name": "ipython",
    "version": 3
   },
   "file_extension": ".py",
   "mimetype": "text/x-python",
   "name": "python",
   "nbconvert_exporter": "python",
   "pygments_lexer": "ipython3",
   "version": "3.9.16"
  }
 },
 "nbformat": 4,
 "nbformat_minor": 5
}
