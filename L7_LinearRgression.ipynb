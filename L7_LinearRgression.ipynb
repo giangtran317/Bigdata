{
 "cells": [
  {
   "cell_type": "code",
   "execution_count": 1,
   "id": "a5f6d9d3-0b2c-4b3a-b4ac-f07c9c5e8463",
   "metadata": {},
   "outputs": [],
   "source": [
    "import findspark\n",
    "findspark.init()\n",
    "\n",
    "from pyspark import SparkContext\n",
    "from pyspark.conf import SparkConf\n",
    "from pyspark.sql import SparkSession\n",
    "\n",
    "import warnings\n",
    "warnings.filterwarnings('ignore')\n",
    "\n",
    "from pyspark.sql.functions import *"
   ]
  },
  {
   "cell_type": "code",
   "execution_count": 2,
   "id": "a396b830-14da-4de1-8fb6-860c7fd8eeaa",
   "metadata": {},
   "outputs": [
    {
     "name": "stderr",
     "output_type": "stream",
     "text": [
      "Setting default log level to \"WARN\".\n",
      "To adjust logging level use sc.setLogLevel(newLevel). For SparkR, use setLogLevel(newLevel).\n",
      "23/05/28 08:03:51 WARN NativeCodeLoader: Unable to load native-hadoop library for your platform... using builtin-java classes where applicable\n"
     ]
    }
   ],
   "source": [
    "sc = SparkContext()"
   ]
  },
  {
   "cell_type": "code",
   "execution_count": 3,
   "id": "4b21e090-1e54-4f8a-9708-f3d4207ce604",
   "metadata": {},
   "outputs": [],
   "source": [
    "spark = SparkSession(sc)"
   ]
  },
  {
   "cell_type": "code",
   "execution_count": 5,
   "id": "d4399632-b6a2-44be-a32f-c9f8f3558df3",
   "metadata": {},
   "outputs": [],
   "source": [
    "data = spark.read.csv('/Users/tranhuonggiang/Documents/BI_DA/KHTN/KHTN_BigData in ML/b7/flights.csv', inferSchema = True, header = True)"
   ]
  },
  {
   "cell_type": "code",
   "execution_count": 6,
   "id": "35220f4c-97e3-4cea-aef4-50f6a2b369bf",
   "metadata": {},
   "outputs": [
    {
     "name": "stdout",
     "output_type": "stream",
     "text": [
      "+---+---+---+-------+------+---+----+------+--------+-----+\n",
      "|mon|dom|dow|carrier|flight|org|mile|depart|duration|delay|\n",
      "+---+---+---+-------+------+---+----+------+--------+-----+\n",
      "| 11| 20|  6|     US|    19|JFK|2153|  9.48|     351|   NA|\n",
      "|  0| 22|  2|     UA|  1107|ORD| 316| 16.33|      82|   30|\n",
      "|  2| 20|  4|     UA|   226|SFO| 337|  6.17|      82|   -8|\n",
      "+---+---+---+-------+------+---+----+------+--------+-----+\n",
      "only showing top 3 rows\n",
      "\n"
     ]
    }
   ],
   "source": [
    "data.show(3)"
   ]
  },
  {
   "cell_type": "markdown",
   "id": "9a7ea210-0d24-4196-aa3a-eb78d1ebdca7",
   "metadata": {},
   "source": [
    "**Chuyển đổi dữ liệu thành vector**"
   ]
  },
  {
   "cell_type": "code",
   "execution_count": 7,
   "id": "0a794edc-e87a-4bd4-9fbe-0ac285ae1359",
   "metadata": {},
   "outputs": [],
   "source": [
    "from pyspark.ml.linalg import Vectors\n",
    "from pyspark.ml.feature import VectorAssembler"
   ]
  },
  {
   "cell_type": "code",
   "execution_count": 8,
   "id": "84d5ffc9-9cd2-4838-9840-9b72d84b275e",
   "metadata": {},
   "outputs": [],
   "source": [
    "assembler = VectorAssembler (\n",
    "    inputCols = ['mile'],\n",
    "    outputCol = 'features')"
   ]
  },
  {
   "cell_type": "code",
   "execution_count": 9,
   "id": "fe4ba2d0-7a8e-4426-b289-4d5de9b538d5",
   "metadata": {},
   "outputs": [],
   "source": [
    "data_pre = assembler.transform(data)"
   ]
  },
  {
   "cell_type": "code",
   "execution_count": 10,
   "id": "7a3ab4c3-94cb-4921-b4aa-5d1944ab1a09",
   "metadata": {},
   "outputs": [
    {
     "name": "stdout",
     "output_type": "stream",
     "text": [
      "+---+---+---+-------+------+---+----+------+--------+-----+--------+\n",
      "|mon|dom|dow|carrier|flight|org|mile|depart|duration|delay|features|\n",
      "+---+---+---+-------+------+---+----+------+--------+-----+--------+\n",
      "| 11| 20|  6|     US|    19|JFK|2153|  9.48|     351|   NA|[2153.0]|\n",
      "|  0| 22|  2|     UA|  1107|ORD| 316| 16.33|      82|   30| [316.0]|\n",
      "+---+---+---+-------+------+---+----+------+--------+-----+--------+\n",
      "only showing top 2 rows\n",
      "\n"
     ]
    }
   ],
   "source": [
    "data_pre.show(2)"
   ]
  },
  {
   "cell_type": "code",
   "execution_count": 11,
   "id": "3f1a2f8a-1e43-4c26-95c2-08d521a6c9a0",
   "metadata": {},
   "outputs": [],
   "source": [
    "final_data = data_pre.select('features', 'duration')"
   ]
  },
  {
   "cell_type": "code",
   "execution_count": 12,
   "id": "4cbc62df-5afa-45a9-8835-6c3caaf8e388",
   "metadata": {},
   "outputs": [
    {
     "data": {
      "text/plain": [
       "50000"
      ]
     },
     "execution_count": 12,
     "metadata": {},
     "output_type": "execute_result"
    }
   ],
   "source": [
    "final_data.count()"
   ]
  },
  {
   "cell_type": "code",
   "execution_count": 13,
   "id": "84ef37a9-eb41-4261-a77a-336fe836ac47",
   "metadata": {},
   "outputs": [
    {
     "data": {
      "text/plain": [
       "50000"
      ]
     },
     "execution_count": 13,
     "metadata": {},
     "output_type": "execute_result"
    }
   ],
   "source": [
    "final_data = final_data.na.drop()\n",
    "final_data.count()"
   ]
  },
  {
   "cell_type": "code",
   "execution_count": 14,
   "id": "1cf2045b-ea4d-4994-8486-99cfef7fce5c",
   "metadata": {},
   "outputs": [],
   "source": [
    "train_data, test_data = final_data.randomSplit([0.8,0.2])"
   ]
  },
  {
   "cell_type": "code",
   "execution_count": 15,
   "id": "e4065ff4-4a0d-45de-975d-96b7a51374bf",
   "metadata": {},
   "outputs": [
    {
     "name": "stdout",
     "output_type": "stream",
     "text": [
      "+-------+------------------+\n",
      "|summary|          duration|\n",
      "+-------+------------------+\n",
      "|  count|             40111|\n",
      "|   mean|152.18187030989006|\n",
      "| stddev| 87.29411140629854|\n",
      "|    min|                30|\n",
      "|    max|               560|\n",
      "+-------+------------------+\n",
      "\n"
     ]
    }
   ],
   "source": [
    "train_data.describe().show()"
   ]
  },
  {
   "cell_type": "code",
   "execution_count": 16,
   "id": "e84eda9b-f569-4550-9850-183ead996e1a",
   "metadata": {},
   "outputs": [
    {
     "name": "stdout",
     "output_type": "stream",
     "text": [
      "+-------+-----------------+\n",
      "|summary|         duration|\n",
      "+-------+-----------------+\n",
      "|  count|             9889|\n",
      "|   mean|150.0782687834968|\n",
      "| stddev|86.01128932400309|\n",
      "|    min|               30|\n",
      "|    max|              560|\n",
      "+-------+-----------------+\n",
      "\n"
     ]
    }
   ],
   "source": [
    "test_data.describe().show()"
   ]
  },
  {
   "cell_type": "markdown",
   "id": "4639d455-80eb-4d03-b555-d0286862af63",
   "metadata": {},
   "source": [
    "**Xây dựng model**"
   ]
  },
  {
   "cell_type": "code",
   "execution_count": 17,
   "id": "9d148f50-4238-42d1-be68-6c201aac06db",
   "metadata": {},
   "outputs": [],
   "source": [
    "from pyspark.ml.regression import LinearRegression"
   ]
  },
  {
   "cell_type": "code",
   "execution_count": 18,
   "id": "f8265e73-5e80-42ff-8c13-9ff95dd82096",
   "metadata": {},
   "outputs": [],
   "source": [
    "#create a Linear regression model object\n",
    "lr = LinearRegression(featuresCol = 'features',\n",
    "                      labelCol = 'duration',\n",
    "                      predictionCol = 'prediction')"
   ]
  },
  {
   "cell_type": "code",
   "execution_count": 19,
   "id": "8c893030-386a-41c3-9520-d8549fc4b016",
   "metadata": {},
   "outputs": [
    {
     "name": "stderr",
     "output_type": "stream",
     "text": [
      "23/05/28 08:16:47 WARN Instrumentation: [ff6a60e8] regParam is zero, which might cause numerical instability and overfitting.\n",
      "23/05/28 08:16:47 WARN InstanceBuilder: Failed to load implementation from:dev.ludovic.netlib.blas.JNIBLAS\n",
      "23/05/28 08:16:47 WARN InstanceBuilder: Failed to load implementation from:dev.ludovic.netlib.blas.VectorBLAS\n",
      "23/05/28 08:16:47 WARN InstanceBuilder: Failed to load implementation from:dev.ludovic.netlib.lapack.JNILAPACK\n"
     ]
    }
   ],
   "source": [
    "#fit model to data\n",
    "lrModel = lr.fit(train_data)"
   ]
  },
  {
   "cell_type": "code",
   "execution_count": 20,
   "id": "b2e3f774-7cc0-462e-8868-a3ade6d2070f",
   "metadata": {},
   "outputs": [
    {
     "name": "stdout",
     "output_type": "stream",
     "text": [
      "Coefficients: [0.12167042364354663] Intercept: 44.449894646576816\n"
     ]
    }
   ],
   "source": [
    "print(\"Coefficients: {} Intercept: {}\".format(lrModel.coefficients, lrModel.intercept))"
   ]
  },
  {
   "cell_type": "markdown",
   "id": "89399c8b-fe52-4280-a7a8-e5acb299a3fc",
   "metadata": {},
   "source": [
    "**Đánh giá kết quả**"
   ]
  },
  {
   "cell_type": "code",
   "execution_count": 24,
   "id": "9d551add-3b40-4fb7-a521-306a6f1cedc7",
   "metadata": {},
   "outputs": [],
   "source": [
    "test_model = lrModel.transform(test_data)"
   ]
  },
  {
   "cell_type": "code",
   "execution_count": 25,
   "id": "72f6a056-deef-43aa-9ef3-c6b0a053760f",
   "metadata": {},
   "outputs": [
    {
     "name": "stdout",
     "output_type": "stream",
     "text": [
      "+------------------+--------+\n",
      "|        prediction|duration|\n",
      "+------------------+--------+\n",
      "|52.601813030694444|      44|\n",
      "|52.601813030694444|      44|\n",
      "|52.601813030694444|      44|\n",
      "|52.601813030694444|      46|\n",
      "|52.601813030694444|      46|\n",
      "+------------------+--------+\n",
      "only showing top 5 rows\n",
      "\n"
     ]
    }
   ],
   "source": [
    "test_model.select(\"prediction\", \"duration\").show(5)"
   ]
  },
  {
   "cell_type": "code",
   "execution_count": 26,
   "id": "24b448e6-5d56-47bb-b273-49df2afc33fe",
   "metadata": {},
   "outputs": [
    {
     "name": "stdout",
     "output_type": "stream",
     "text": [
      "RMSE: 16.664566132915972\n",
      "MSE: 277.70776439832997\n",
      "R2: 0.9624576870410794\n"
     ]
    }
   ],
   "source": [
    "print('RMSE: {}' .format(test_results.rootMeanSquaredError))\n",
    "print('MSE: {}' .format(test_results.meanSquaredError))\n",
    "print('R2: {}'.format(test_results.r2))"
   ]
  },
  {
   "cell_type": "markdown",
   "id": "6dc4a895-f8fa-4d56-a492-e95d12aa55e5",
   "metadata": {},
   "source": [
    "> Good result"
   ]
  },
  {
   "cell_type": "markdown",
   "id": "84556ee9-00a8-4670-a95b-71656b1042a3",
   "metadata": {
    "tags": []
   },
   "source": [
    "**Lưu và load model**"
   ]
  },
  {
   "cell_type": "code",
   "execution_count": 27,
   "id": "6587e9ac-748d-43a3-b20a-3d96a36d458d",
   "metadata": {},
   "outputs": [
    {
     "name": "stderr",
     "output_type": "stream",
     "text": [
      "                                                                                \r"
     ]
    }
   ],
   "source": [
    "#save model\n",
    "lrModel.save('lrModel_Flights_50k')"
   ]
  },
  {
   "cell_type": "code",
   "execution_count": 28,
   "id": "756616f9-36f8-4e32-a123-e88b433372ba",
   "metadata": {},
   "outputs": [],
   "source": [
    "from pyspark.ml.regression import LinearRegressionModel\n",
    "#load model from \n",
    "lfModel2 = LinearRegressionModel.load('lrModel_Flights_50k')"
   ]
  },
  {
   "cell_type": "code",
   "execution_count": 29,
   "id": "6ba47f0e-0917-45bc-957f-8953fb786fda",
   "metadata": {},
   "outputs": [],
   "source": [
    "#predict new values (asssuming select test_data)\n",
    "unlabeled_data = test_data.select('features')"
   ]
  },
  {
   "cell_type": "code",
   "execution_count": 30,
   "id": "7288e3d4-a516-45e9-b55f-74cd229255ce",
   "metadata": {},
   "outputs": [
    {
     "name": "stdout",
     "output_type": "stream",
     "text": [
      "+--------+------------------+\n",
      "|features|        prediction|\n",
      "+--------+------------------+\n",
      "|  [67.0]|52.601813030694444|\n",
      "|  [67.0]|52.601813030694444|\n",
      "|  [67.0]|52.601813030694444|\n",
      "|  [67.0]|52.601813030694444|\n",
      "|  [67.0]|52.601813030694444|\n",
      "+--------+------------------+\n",
      "only showing top 5 rows\n",
      "\n"
     ]
    }
   ],
   "source": [
    "predictions = lfModel2.transform(unlabeled_data)\n",
    "predictions.show(5)"
   ]
  },
  {
   "cell_type": "code",
   "execution_count": null,
   "id": "98000141-c7da-44d3-9e3e-7f4eec8f9a13",
   "metadata": {},
   "outputs": [],
   "source": []
  },
  {
   "cell_type": "code",
   "execution_count": null,
   "id": "7c2bee1c-de9c-46f9-a61a-ad4504698f3b",
   "metadata": {},
   "outputs": [],
   "source": []
  },
  {
   "cell_type": "code",
   "execution_count": null,
   "id": "0a530858-3fd2-486b-be1f-5c4d74bf24b0",
   "metadata": {},
   "outputs": [],
   "source": []
  },
  {
   "cell_type": "code",
   "execution_count": null,
   "id": "dd2f077b-8a6e-4679-9bad-3c0dc4cccd00",
   "metadata": {},
   "outputs": [],
   "source": []
  }
 ],
 "metadata": {
  "kernelspec": {
   "display_name": "Python 3 (ipykernel)",
   "language": "python",
   "name": "python3"
  },
  "language_info": {
   "codemirror_mode": {
    "name": "ipython",
    "version": 3
   },
   "file_extension": ".py",
   "mimetype": "text/x-python",
   "name": "python",
   "nbconvert_exporter": "python",
   "pygments_lexer": "ipython3",
   "version": "3.9.16"
  }
 },
 "nbformat": 4,
 "nbformat_minor": 5
}
